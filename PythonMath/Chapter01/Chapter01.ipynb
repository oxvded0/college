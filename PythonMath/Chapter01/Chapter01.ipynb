{
 "cells": [
  {
   "cell_type": "code",
   "execution_count": 8,
   "id": "1c087fbb",
   "metadata": {},
   "outputs": [],
   "source": [
    "from sympy import solve,Symbol"
   ]
  },
  {
   "cell_type": "code",
   "execution_count": 9,
   "id": "f91df13d",
   "metadata": {},
   "outputs": [],
   "source": [
    "x = Symbol('x')"
   ]
  },
  {
   "cell_type": "code",
   "execution_count": 10,
   "id": "662c8c77",
   "metadata": {},
   "outputs": [],
   "source": [
    "equation = 2*x-6"
   ]
  },
  {
   "cell_type": "code",
   "execution_count": 11,
   "id": "bc972bea",
   "metadata": {},
   "outputs": [
    {
     "data": {
      "text/plain": [
       "[3]"
      ]
     },
     "execution_count": 11,
     "metadata": {},
     "output_type": "execute_result"
    }
   ],
   "source": [
    "solve(equation)"
   ]
  },
  {
   "cell_type": "markdown",
   "id": "3af633de",
   "metadata": {},
   "source": [
    "연습문제"
   ]
  },
  {
   "cell_type": "code",
   "execution_count": 12,
   "id": "43b1aea3",
   "metadata": {},
   "outputs": [],
   "source": [
    "from sympy import solve,Symbol"
   ]
  },
  {
   "cell_type": "code",
   "execution_count": 13,
   "id": "9dccc52f",
   "metadata": {},
   "outputs": [],
   "source": [
    "k = Symbol(\"k\")"
   ]
  },
  {
   "cell_type": "code",
   "execution_count": 14,
   "id": "06ff043d",
   "metadata": {},
   "outputs": [],
   "source": [
    "equation = k-6"
   ]
  },
  {
   "cell_type": "code",
   "execution_count": 15,
   "id": "70eabd3b",
   "metadata": {},
   "outputs": [
    {
     "data": {
      "text/plain": [
       "[6]"
      ]
     },
     "execution_count": 15,
     "metadata": {},
     "output_type": "execute_result"
    }
   ],
   "source": [
    "solve(equation)"
   ]
  },
  {
   "cell_type": "code",
   "execution_count": 16,
   "id": "ed408997",
   "metadata": {},
   "outputs": [],
   "source": [
    "from sympy import solve,Symbol"
   ]
  },
  {
   "cell_type": "code",
   "execution_count": 17,
   "id": "3f8e5f47",
   "metadata": {},
   "outputs": [],
   "source": [
    "k = Symbol(\"k\")"
   ]
  },
  {
   "cell_type": "code",
   "execution_count": 18,
   "id": "ad0c4d1b",
   "metadata": {},
   "outputs": [],
   "source": [
    "equation = 2*k-10"
   ]
  },
  {
   "cell_type": "code",
   "execution_count": 19,
   "id": "41505dfe",
   "metadata": {},
   "outputs": [
    {
     "data": {
      "text/plain": [
       "[5]"
      ]
     },
     "execution_count": 19,
     "metadata": {},
     "output_type": "execute_result"
    }
   ],
   "source": [
    "solve(equation)"
   ]
  },
  {
   "cell_type": "code",
   "execution_count": 20,
   "id": "72761c8d",
   "metadata": {},
   "outputs": [],
   "source": [
    "from sympy import solve,Symbol"
   ]
  },
  {
   "cell_type": "code",
   "execution_count": 21,
   "id": "2b646f40",
   "metadata": {},
   "outputs": [],
   "source": [
    "k = Symbol(\"k\")"
   ]
  },
  {
   "cell_type": "code",
   "execution_count": 22,
   "id": "796dfab7",
   "metadata": {},
   "outputs": [],
   "source": [
    "a = k/2-8"
   ]
  },
  {
   "cell_type": "code",
   "execution_count": 23,
   "id": "f3d02f5f",
   "metadata": {},
   "outputs": [
    {
     "data": {
      "text/plain": [
       "[16]"
      ]
     },
     "execution_count": 23,
     "metadata": {},
     "output_type": "execute_result"
    }
   ],
   "source": [
    "solve(a)"
   ]
  },
  {
   "cell_type": "markdown",
   "id": "32c8804e",
   "metadata": {},
   "source": [
    "연립방정식"
   ]
  },
  {
   "cell_type": "code",
   "execution_count": 1,
   "id": "f7a6900b",
   "metadata": {},
   "outputs": [],
   "source": [
    "from sympy import solve,Symbol"
   ]
  },
  {
   "cell_type": "code",
   "execution_count": 3,
   "id": "cb44e97a",
   "metadata": {},
   "outputs": [],
   "source": [
    "x = Symbol('x')"
   ]
  },
  {
   "cell_type": "code",
   "execution_count": 4,
   "id": "45927b9f",
   "metadata": {},
   "outputs": [],
   "source": [
    "y = Symbol(\"y\")"
   ]
  },
  {
   "cell_type": "code",
   "execution_count": 5,
   "id": "b02d6cfa",
   "metadata": {},
   "outputs": [],
   "source": [
    "equation1 = 3*x+y-2"
   ]
  },
  {
   "cell_type": "code",
   "execution_count": 6,
   "id": "cc8d756b",
   "metadata": {},
   "outputs": [],
   "source": [
    "equation2 = x-2*y-3"
   ]
  },
  {
   "cell_type": "code",
   "execution_count": 8,
   "id": "20573e34",
   "metadata": {},
   "outputs": [
    {
     "data": {
      "text/plain": [
       "[{x: 1, y: -1}]"
      ]
     },
     "execution_count": 8,
     "metadata": {},
     "output_type": "execute_result"
    }
   ],
   "source": [
    "solve((equation1,equation2),dict=True)"
   ]
  },
  {
   "cell_type": "code",
   "execution_count": null,
   "id": "2c89a621",
   "metadata": {},
   "outputs": [],
   "source": []
  }
 ],
 "metadata": {
  "kernelspec": {
   "display_name": "Python 3 (ipykernel)",
   "language": "python",
   "name": "python3"
  },
  "language_info": {
   "codemirror_mode": {
    "name": "ipython",
    "version": 3
   },
   "file_extension": ".py",
   "mimetype": "text/x-python",
   "name": "python",
   "nbconvert_exporter": "python",
   "pygments_lexer": "ipython3",
   "version": "3.8.10"
  }
 },
 "nbformat": 4,
 "nbformat_minor": 5
}
