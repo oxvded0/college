{
 "cells": [
  {
   "cell_type": "code",
   "execution_count": 4,
   "id": "c42998bc",
   "metadata": {},
   "outputs": [
    {
     "name": "stdout",
     "output_type": "stream",
     "text": [
      "ab\n",
      "a ab\n"
     ]
    }
   ],
   "source": [
    "def add_b(x):\n",
    "    x=x+\"b\"\n",
    "    print(x)\n",
    "    \n",
    "    return x\n",
    "\n",
    "x = \"a\"\n",
    "a=add_b(x)\n",
    "print(x,a)"
   ]
  },
  {
   "cell_type": "code",
   "execution_count": 5,
   "id": "b5d10b74",
   "metadata": {},
   "outputs": [],
   "source": [
    "z = 1"
   ]
  },
  {
   "cell_type": "code",
   "execution_count": 6,
   "id": "763f1e51",
   "metadata": {},
   "outputs": [],
   "source": [
    "v = z"
   ]
  },
  {
   "cell_type": "code",
   "execution_count": 7,
   "id": "8cafd42d",
   "metadata": {},
   "outputs": [
    {
     "data": {
      "text/plain": [
       "True"
      ]
     },
     "execution_count": 7,
     "metadata": {},
     "output_type": "execute_result"
    }
   ],
   "source": [
    "v is z"
   ]
  },
  {
   "cell_type": "code",
   "execution_count": 8,
   "id": "adf40f1f",
   "metadata": {},
   "outputs": [],
   "source": [
    "q = [1,2,3]"
   ]
  },
  {
   "cell_type": "code",
   "execution_count": 9,
   "id": "d9053e6a",
   "metadata": {},
   "outputs": [],
   "source": [
    "w = q"
   ]
  },
  {
   "cell_type": "code",
   "execution_count": 10,
   "id": "ceb2d7de",
   "metadata": {},
   "outputs": [
    {
     "data": {
      "text/plain": [
       "True"
      ]
     },
     "execution_count": 10,
     "metadata": {},
     "output_type": "execute_result"
    }
   ],
   "source": [
    "q is w"
   ]
  },
  {
   "cell_type": "code",
   "execution_count": 11,
   "id": "ffae3cec",
   "metadata": {},
   "outputs": [],
   "source": [
    "t = \"a\""
   ]
  },
  {
   "cell_type": "code",
   "execution_count": 12,
   "id": "899c5a92",
   "metadata": {},
   "outputs": [],
   "source": [
    "y = t"
   ]
  },
  {
   "cell_type": "code",
   "execution_count": 13,
   "id": "5636c213",
   "metadata": {},
   "outputs": [
    {
     "data": {
      "text/plain": [
       "True"
      ]
     },
     "execution_count": 13,
     "metadata": {},
     "output_type": "execute_result"
    }
   ],
   "source": [
    "y is t"
   ]
  },
  {
   "cell_type": "code",
   "execution_count": 14,
   "id": "3682a638",
   "metadata": {},
   "outputs": [],
   "source": [
    "p = 1"
   ]
  },
  {
   "cell_type": "code",
   "execution_count": 15,
   "id": "961dfeb4",
   "metadata": {},
   "outputs": [],
   "source": [
    "o = 1"
   ]
  },
  {
   "cell_type": "code",
   "execution_count": 16,
   "id": "53cfff1c",
   "metadata": {},
   "outputs": [
    {
     "data": {
      "text/plain": [
       "True"
      ]
     },
     "execution_count": 16,
     "metadata": {},
     "output_type": "execute_result"
    }
   ],
   "source": [
    "o == p"
   ]
  },
  {
   "cell_type": "code",
   "execution_count": 17,
   "id": "36d9563f",
   "metadata": {},
   "outputs": [
    {
     "data": {
      "text/plain": [
       "True"
      ]
     },
     "execution_count": 17,
     "metadata": {},
     "output_type": "execute_result"
    }
   ],
   "source": [
    "o is p"
   ]
  },
  {
   "cell_type": "code",
   "execution_count": 18,
   "id": "4e870236",
   "metadata": {},
   "outputs": [],
   "source": [
    "aa = [1,2,3]"
   ]
  },
  {
   "cell_type": "code",
   "execution_count": 19,
   "id": "d0fc3481",
   "metadata": {},
   "outputs": [],
   "source": [
    "bb = [1,2,3]"
   ]
  },
  {
   "cell_type": "code",
   "execution_count": 20,
   "id": "9c1bfe65",
   "metadata": {},
   "outputs": [
    {
     "data": {
      "text/plain": [
       "False"
      ]
     },
     "execution_count": 20,
     "metadata": {},
     "output_type": "execute_result"
    }
   ],
   "source": [
    "aa is bb"
   ]
  },
  {
   "cell_type": "code",
   "execution_count": 21,
   "id": "914582fb",
   "metadata": {},
   "outputs": [
    {
     "data": {
      "text/plain": [
       "<list_iterator at 0x1d0a2d38a90>"
      ]
     },
     "execution_count": 21,
     "metadata": {},
     "output_type": "execute_result"
    }
   ],
   "source": [
    "iter(aa)"
   ]
  },
  {
   "cell_type": "code",
   "execution_count": 22,
   "id": "47ca7223",
   "metadata": {},
   "outputs": [
    {
     "ename": "TypeError",
     "evalue": "'int' object is not iterable",
     "output_type": "error",
     "traceback": [
      "\u001b[1;31m---------------------------------------------------------------------------\u001b[0m",
      "\u001b[1;31mTypeError\u001b[0m                                 Traceback (most recent call last)",
      "\u001b[1;32m~\\AppData\\Local\\Temp/ipykernel_15076/2160751310.py\u001b[0m in \u001b[0;36m<module>\u001b[1;34m\u001b[0m\n\u001b[1;32m----> 1\u001b[1;33m \u001b[0miter\u001b[0m\u001b[1;33m(\u001b[0m\u001b[0mo\u001b[0m\u001b[1;33m)\u001b[0m\u001b[1;33m\u001b[0m\u001b[1;33m\u001b[0m\u001b[0m\n\u001b[0m",
      "\u001b[1;31mTypeError\u001b[0m: 'int' object is not iterable"
     ]
    }
   ],
   "source": [
    "iter(o)"
   ]
  },
  {
   "cell_type": "code",
   "execution_count": null,
   "id": "3b56d642",
   "metadata": {},
   "outputs": [],
   "source": []
  }
 ],
 "metadata": {
  "kernelspec": {
   "display_name": "Python 3 (ipykernel)",
   "language": "python",
   "name": "python3"
  },
  "language_info": {
   "codemirror_mode": {
    "name": "ipython",
    "version": 3
   },
   "file_extension": ".py",
   "mimetype": "text/x-python",
   "name": "python",
   "nbconvert_exporter": "python",
   "pygments_lexer": "ipython3",
   "version": "3.8.10"
  }
 },
 "nbformat": 4,
 "nbformat_minor": 5
}
