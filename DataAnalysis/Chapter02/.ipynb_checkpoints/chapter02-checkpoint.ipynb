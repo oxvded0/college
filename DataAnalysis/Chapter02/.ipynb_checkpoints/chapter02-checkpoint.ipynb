{
 "cells": [
  {
   "cell_type": "markdown",
   "id": "9a3545da",
   "metadata": {},
   "source": [
    "# 2.2.3탭 자동완성"
   ]
  },
  {
   "cell_type": "code",
   "execution_count": 1,
   "id": "b15e137e",
   "metadata": {},
   "outputs": [],
   "source": [
    "an_apple = 27"
   ]
  },
  {
   "cell_type": "code",
   "execution_count": 2,
   "id": "923e5bdd",
   "metadata": {},
   "outputs": [],
   "source": [
    "an_example = 42"
   ]
  },
  {
   "cell_type": "code",
   "execution_count": 5,
   "id": "44a3550c",
   "metadata": {},
   "outputs": [],
   "source": [
    "#an <TAB>\n",
    "#an_apple    an_example    any\n",
    "\n",
    "    #탭을 누르면 자동완성"
   ]
  },
  {
   "cell_type": "code",
   "execution_count": 6,
   "id": "3765b45d",
   "metadata": {},
   "outputs": [],
   "source": [
    "b = [1,2,3]"
   ]
  },
  {
   "cell_type": "code",
   "execution_count": 7,
   "id": "9df9bf03",
   "metadata": {},
   "outputs": [],
   "source": [
    "# b. <TAB>\n",
    "#append    count    insert    reserve    clear    extend    pop     sort    copu    index    remove\n",
    "\n",
    "    #어떤 객체의 메서드나 속성 뒤에 마침표를 입력한 후 자동완성 기능을 활용할 수도 있다"
   ]
  },
  {
   "cell_type": "code",
   "execution_count": 8,
   "id": "33fbd3c9",
   "metadata": {},
   "outputs": [],
   "source": [
    "import datetime"
   ]
  },
  {
   "cell_type": "code",
   "execution_count": 9,
   "id": "81967cbc",
   "metadata": {},
   "outputs": [],
   "source": [
    "# datetime. <TAB>\n",
    "#date    datetime    datetime_CAPI    MAXYEAR    MINYEAR    time    timedelta    timezone    tzinfo\n",
    "    #모듈도 똑같이 동작"
   ]
  },
  {
   "cell_type": "markdown",
   "id": "e3aabf1f",
   "metadata": {},
   "source": []
  },
  {
   "cell_type": "code",
   "execution_count": 11,
   "id": "13f673b9",
   "metadata": {},
   "outputs": [],
   "source": [
    "#path = \"C:/Users/oxvde/git/DataAnalysis/  <TAB>\"\n",
    "    #파일 경로를 입력한 후 탭을 누르면 입력한 문자열에 맞는 파일 경로를 컴퓨터의 파일 시스템 안에서 찾아와 보여준다"
   ]
  },
  {
   "cell_type": "code",
   "execution_count": 12,
   "id": "b4bc6a4a",
   "metadata": {},
   "outputs": [],
   "source": [
    "def func_with_keywords(abra=1, abbra=2, abbbra=3):\n",
    "    return abra, abbra, abbbra"
   ]
  },
  {
   "cell_type": "code",
   "execution_count": 13,
   "id": "3e032969",
   "metadata": {},
   "outputs": [],
   "source": [
    "#func_with keywords(ab <TAB>)\n",
    "#abbbra=    abbra=    abra=    abs\n",
    "    #자동완성 기능을 사용하면 함수에서 이름을 가진 인자도 보여준다"
   ]
  },
  {
   "cell_type": "markdown",
   "id": "6bd44a81",
   "metadata": {},
   "source": [
    "# 2.2.4 자기관찰"
   ]
  },
  {
   "cell_type": "markdown",
   "id": "819303aa",
   "metadata": {},
   "source": [
    "변수 이름 앞이나 뒤에 ? 기호를 붙이면 그 객체에 대한 정보 출력"
   ]
  },
  {
   "cell_type": "code",
   "execution_count": 14,
   "id": "86289901",
   "metadata": {},
   "outputs": [],
   "source": [
    "b = [1,2,3]"
   ]
  },
  {
   "cell_type": "code",
   "execution_count": 15,
   "id": "9ff49167",
   "metadata": {},
   "outputs": [],
   "source": [
    "b?"
   ]
  },
  {
   "cell_type": "code",
   "execution_count": 17,
   "id": "6b405685",
   "metadata": {},
   "outputs": [],
   "source": [
    "#만약 객체가 함수이거나 인스턴트 메서드라면 정의되어 있는 문서를 출력해준다"
   ]
  },
  {
   "cell_type": "code",
   "execution_count": 18,
   "id": "3828d701",
   "metadata": {},
   "outputs": [],
   "source": [
    "print?"
   ]
  },
  {
   "cell_type": "code",
   "execution_count": 19,
   "id": "a312a59e",
   "metadata": {},
   "outputs": [],
   "source": [
    "def add_numbers(a,b):\n",
    "    '''\n",
    "    Add two numbers together\n",
    "    \n",
    "    Returns\n",
    "    -------\n",
    "    the sum : type of arguments\n",
    "    '''\n",
    "    return a+b"
   ]
  },
  {
   "cell_type": "code",
   "execution_count": 20,
   "id": "aed922a2",
   "metadata": {},
   "outputs": [],
   "source": [
    "add_numbers?"
   ]
  },
  {
   "cell_type": "code",
   "execution_count": 21,
   "id": "f36bda94",
   "metadata": {},
   "outputs": [],
   "source": [
    "#??를 사용하면 함수의 소스 코드도 보여줌"
   ]
  },
  {
   "cell_type": "code",
   "execution_count": 22,
   "id": "a44735c3",
   "metadata": {},
   "outputs": [],
   "source": [
    "add_numbers??"
   ]
  },
  {
   "cell_type": "code",
   "execution_count": 27,
   "id": "f278ee94",
   "metadata": {},
   "outputs": [],
   "source": [
    "#네임스페이스를 검색하는 데도 사용, *기호안의 문자와 일치하는 모든 이름을 보여준다"
   ]
  },
  {
   "cell_type": "code",
   "execution_count": 28,
   "id": "27ef55b3",
   "metadata": {},
   "outputs": [],
   "source": [
    "import numpy as np"
   ]
  },
  {
   "cell_type": "code",
   "execution_count": 29,
   "id": "c472f7b7",
   "metadata": {},
   "outputs": [],
   "source": [
    "np.*load*?"
   ]
  },
  {
   "cell_type": "markdown",
   "id": "59ce3a03",
   "metadata": {},
   "source": [
    "# 2.2.5 %run 명령어"
   ]
  },
  {
   "cell_type": "markdown",
   "id": "6a13f0b1",
   "metadata": {},
   "source": [
    "%run 명령어를 사용하면 Ipython 세션 안에서 파이썬 프로그램 파일을 불러와 실행할 수 있다"
   ]
  },
  {
   "cell_type": "code",
   "execution_count": 30,
   "id": "7e46dc97",
   "metadata": {},
   "outputs": [],
   "source": [
    "%run ipython_script_test.py"
   ]
  },
  {
   "cell_type": "code",
   "execution_count": 31,
   "id": "81f7a239",
   "metadata": {},
   "outputs": [],
   "source": [
    "#스크립트 파일은 빈 네임스페이스에서 실행되므로 명령행에서 python script.py 명령을 실행한 것과 동일하게 동작한다\n",
    "#스크립트 파일에 정의된 모든 변수는 실행된 후에 ipython에서 접근이 가능하다"
   ]
  },
  {
   "cell_type": "code",
   "execution_count": 32,
   "id": "123bc484",
   "metadata": {},
   "outputs": [
    {
     "data": {
      "text/plain": [
       "7.5"
      ]
     },
     "execution_count": 32,
     "metadata": {},
     "output_type": "execute_result"
    }
   ],
   "source": [
    "c"
   ]
  },
  {
   "cell_type": "code",
   "execution_count": 33,
   "id": "8e279ea8",
   "metadata": {},
   "outputs": [
    {
     "data": {
      "text/plain": [
       "1.4666666666666666"
      ]
     },
     "execution_count": 33,
     "metadata": {},
     "output_type": "execute_result"
    }
   ],
   "source": [
    "result"
   ]
  },
  {
   "cell_type": "code",
   "execution_count": 34,
   "id": "0555681c",
   "metadata": {},
   "outputs": [],
   "source": [
    "#스크립트 파일을 코드셀로 불러오는 %load 매직함수를 사용할 수도 있다"
   ]
  },
  {
   "cell_type": "code",
   "execution_count": 36,
   "id": "cde1e68d",
   "metadata": {},
   "outputs": [],
   "source": [
    "# %load ipython_script_test.py\n",
    "def f(x,y,z):\n",
    "    return (x+y)/z\n",
    "\n",
    "a = 5\n",
    "b = 6\n",
    "c = 7.5\n",
    "\n",
    "result = f(a,b,c)"
   ]
  },
  {
   "cell_type": "code",
   "execution_count": 37,
   "id": "a5eb5f62",
   "metadata": {},
   "outputs": [],
   "source": [
    "#스크립트가 실행되고 있는 중간 CTRL-C를 누르면 keyboardInterrupt 예외를 발생시킨다"
   ]
  },
  {
   "cell_type": "markdown",
   "id": "0f4eb7bd",
   "metadata": {},
   "source": [
    "# 2.2.8 매직명령어"
   ]
  },
  {
   "cell_type": "markdown",
   "id": "041bff91",
   "metadata": {},
   "source": [
    "파이썬 자체에는 존재하지 않는 여러 가지 특수한 명령어, 앞에 %기호를 붙이는 형식"
   ]
  },
  {
   "cell_type": "code",
   "execution_count": 43,
   "id": "9abc5e77",
   "metadata": {},
   "outputs": [],
   "source": [
    "a = np.random.randn(100,100)"
   ]
  },
  {
   "cell_type": "code",
   "execution_count": 44,
   "id": "166f1863",
   "metadata": {},
   "outputs": [
    {
     "name": "stdout",
     "output_type": "stream",
     "text": [
      "27.2 µs ± 3.43 µs per loop (mean ± std. dev. of 7 runs, 10000 loops each)\n"
     ]
    }
   ],
   "source": [
    "%timeit np.dot(a,a)"
   ]
  },
  {
   "cell_type": "code",
   "execution_count": 45,
   "id": "2c07149d",
   "metadata": {},
   "outputs": [],
   "source": [
    "# ?를 이용해서 전체 옵션을 살펴볼 수 있다"
   ]
  },
  {
   "cell_type": "code",
   "execution_count": 47,
   "id": "a76ca9f9",
   "metadata": {},
   "outputs": [],
   "source": [
    "%debug?"
   ]
  },
  {
   "cell_type": "code",
   "execution_count": 48,
   "id": "7c16da26",
   "metadata": {},
   "outputs": [],
   "source": [
    "#매직함수와 같은 이름의 변수가 선언되어 있지 않다면 기본적으로 %기호 없이도 매직함수를 사용할 수 있다\n",
    "#이를 오토매직이라 하고 %automagic을 이용해서 이 기능을 키고 끈다"
   ]
  },
  {
   "cell_type": "code",
   "execution_count": 49,
   "id": "fc60d1c8",
   "metadata": {},
   "outputs": [
    {
     "data": {
      "text/plain": [
       "'C:\\\\Users\\\\oxvde\\\\git\\\\DataAnalysis\\\\Chapter02'"
      ]
     },
     "execution_count": 49,
     "metadata": {},
     "output_type": "execute_result"
    }
   ],
   "source": [
    "%pwd"
   ]
  },
  {
   "cell_type": "code",
   "execution_count": 51,
   "id": "1d8c0562",
   "metadata": {},
   "outputs": [],
   "source": [
    "foo = %pwd"
   ]
  },
  {
   "cell_type": "code",
   "execution_count": 52,
   "id": "6cc2bfc0",
   "metadata": {},
   "outputs": [
    {
     "data": {
      "text/plain": [
       "'C:\\\\Users\\\\oxvde\\\\git\\\\DataAnalysis\\\\Chapter02'"
      ]
     },
     "execution_count": 52,
     "metadata": {},
     "output_type": "execute_result"
    }
   ],
   "source": [
    "foo"
   ]
  },
  {
   "cell_type": "markdown",
   "id": "0461e8f2",
   "metadata": {},
   "source": [
    "# 2.2.9 matplotlib 통합"
   ]
  },
  {
   "cell_type": "markdown",
   "id": "9ee0e13e",
   "metadata": {},
   "source": [
    "%matplotlib 매직함수는 주피터 노트북과 matplotlib 통합을 설정 이 기능을 실행하지 않으면 그래프가 화면에 나타나지 않거나 셸의 경우 제어권을 빼앗김"
   ]
  },
  {
   "cell_type": "code",
   "execution_count": 54,
   "id": "52293ee6",
   "metadata": {},
   "outputs": [],
   "source": [
    "%matplotlib inline"
   ]
  },
  {
   "cell_type": "code",
   "execution_count": 56,
   "id": "29652bb1",
   "metadata": {},
   "outputs": [
    {
     "data": {
      "text/plain": [
       "[<matplotlib.lines.Line2D at 0x1ced5411460>]"
      ]
     },
     "execution_count": 56,
     "metadata": {},
     "output_type": "execute_result"
    },
    {
     "data": {
      "image/png": "[encoded data removed]",
      "text/plain": [
       "<Figure size 432x288 with 1 Axes>"
      ]
     },
     "metadata": {
      "needs_background": "light"
     },
     "output_type": "display_data"
    }
   ],
   "source": [
    "import matplotlib.pyplot as plt\n",
    "plt.plot(np.random.randn(50).cumsum())"
   ]
  },
  {
   "cell_type": "markdown",
   "id": "b855f7d1",
   "metadata": {},
   "source": [
    "# 함수와 객체 메서드 호출"
   ]
  },
  {
   "cell_type": "markdown",
   "id": "49b54017",
   "metadata": {},
   "source": [
    "함수는 괄호와 0개 이상의 인자를 전달해 호출 가능. 반환값은 선택적으로 변수에 대입 가능"
   ]
  },
  {
   "cell_type": "code",
   "execution_count": 58,
   "id": "b5367954",
   "metadata": {},
   "outputs": [
    {
     "ename": "NameError",
     "evalue": "name 'x' is not defined",
     "output_type": "error",
     "traceback": [
      "\u001b[1;31m---------------------------------------------------------------------------\u001b[0m",
      "\u001b[1;31mNameError\u001b[0m                                 Traceback (most recent call last)",
      "\u001b[1;32m~\\AppData\\Local\\Temp/ipykernel_17200/611462481.py\u001b[0m in \u001b[0;36m<module>\u001b[1;34m\u001b[0m\n\u001b[1;32m----> 1\u001b[1;33m \u001b[0mresult\u001b[0m \u001b[1;33m=\u001b[0m \u001b[0mf\u001b[0m\u001b[1;33m(\u001b[0m\u001b[0mx\u001b[0m\u001b[1;33m,\u001b[0m\u001b[0my\u001b[0m\u001b[1;33m,\u001b[0m\u001b[0mz\u001b[0m\u001b[1;33m)\u001b[0m\u001b[1;33m\u001b[0m\u001b[1;33m\u001b[0m\u001b[0m\n\u001b[0m",
      "\u001b[1;31mNameError\u001b[0m: name 'x' is not defined"
     ]
    }
   ],
   "source": [
    "result = f(x,y,z)"
   ]
  },
  {
   "cell_type": "code",
   "execution_count": 59,
   "id": "ba5453b6",
   "metadata": {},
   "outputs": [
    {
     "ename": "NameError",
     "evalue": "name 'obj' is not defined",
     "output_type": "error",
     "traceback": [
      "\u001b[1;31m---------------------------------------------------------------------------\u001b[0m",
      "\u001b[1;31mNameError\u001b[0m                                 Traceback (most recent call last)",
      "\u001b[1;32m~\\AppData\\Local\\Temp/ipykernel_17200/4183909647.py\u001b[0m in \u001b[0;36m<module>\u001b[1;34m\u001b[0m\n\u001b[1;32m----> 1\u001b[1;33m \u001b[0mobj\u001b[0m\u001b[1;33m.\u001b[0m\u001b[0msome_method\u001b[0m\u001b[1;33m(\u001b[0m\u001b[0mx\u001b[0m\u001b[1;33m,\u001b[0m\u001b[0my\u001b[0m\u001b[1;33m,\u001b[0m\u001b[0mz\u001b[0m\u001b[1;33m)\u001b[0m\u001b[1;33m\u001b[0m\u001b[1;33m\u001b[0m\u001b[0m\n\u001b[0m",
      "\u001b[1;31mNameError\u001b[0m: name 'obj' is not defined"
     ]
    }
   ],
   "source": [
    "obj.some_method(x,y,z)"
   ]
  },
  {
   "cell_type": "markdown",
   "id": "cf308792",
   "metadata": {},
   "source": [
    "# 변수와 인자 전달"
   ]
  },
  {
   "cell_type": "markdown",
   "id": "c8a485d6",
   "metadata": {},
   "source": [
    "변수에 값을 대입하면 객체에 대한 참조를 생성"
   ]
  },
  {
   "cell_type": "code",
   "execution_count": 60,
   "id": "515376e3",
   "metadata": {},
   "outputs": [],
   "source": [
    "a = [1,2,3]"
   ]
  },
  {
   "cell_type": "code",
   "execution_count": 61,
   "id": "f786cd94",
   "metadata": {},
   "outputs": [],
   "source": [
    "b=a"
   ]
  },
  {
   "cell_type": "code",
   "execution_count": 62,
   "id": "fc8bd4af",
   "metadata": {},
   "outputs": [],
   "source": [
    "#파이썬에선 a와b가 같은 객체인 리스트 [1,2,3]을 가리킨다"
   ]
  },
  {
   "cell_type": "code",
   "execution_count": 63,
   "id": "245dc1e8",
   "metadata": {},
   "outputs": [],
   "source": [
    "a.append(4)"
   ]
  },
  {
   "cell_type": "code",
   "execution_count": 64,
   "id": "b5ed50d4",
   "metadata": {},
   "outputs": [
    {
     "data": {
      "text/plain": [
       "[1, 2, 3, 4]"
      ]
     },
     "execution_count": 64,
     "metadata": {},
     "output_type": "execute_result"
    }
   ],
   "source": [
    "b"
   ]
  },
  {
   "cell_type": "code",
   "execution_count": 65,
   "id": "05561f42",
   "metadata": {},
   "outputs": [],
   "source": [
    "# 함수에 인자를 넘기면 지역변수 생성, 함수 바깥에는 영향을 끼치지 않으므로 함수에서 인자의 내부 값을 변경하는게 가능"
   ]
  },
  {
   "cell_type": "code",
   "execution_count": 66,
   "id": "bf77ab66",
   "metadata": {},
   "outputs": [],
   "source": [
    "def append_element(some_list,element):\n",
    "    some_list.append(element)"
   ]
  },
  {
   "cell_type": "code",
   "execution_count": 68,
   "id": "4ff86fb2",
   "metadata": {},
   "outputs": [],
   "source": [
    "data=[1,2,3]"
   ]
  },
  {
   "cell_type": "code",
   "execution_count": 69,
   "id": "e20a6795",
   "metadata": {},
   "outputs": [],
   "source": [
    "append_element(data, 4)"
   ]
  },
  {
   "cell_type": "code",
   "execution_count": 70,
   "id": "905230cb",
   "metadata": {},
   "outputs": [
    {
     "data": {
      "text/plain": [
       "[1, 2, 3, 4]"
      ]
     },
     "execution_count": 70,
     "metadata": {},
     "output_type": "execute_result"
    }
   ],
   "source": [
    "data"
   ]
  },
  {
   "cell_type": "markdown",
   "id": "48707940",
   "metadata": {},
   "source": [
    "# 동적 참조와 강한 타입"
   ]
  },
  {
   "cell_type": "markdown",
   "id": "b0854ac9",
   "metadata": {},
   "source": [
    "어떤 명백한 상황에서만 묵시적 변환을 수행하는 자료형을 구분하는 강한 타입의 언어"
   ]
  },
  {
   "cell_type": "code",
   "execution_count": 71,
   "id": "5b270b39",
   "metadata": {},
   "outputs": [
    {
     "ename": "TypeError",
     "evalue": "can only concatenate str (not \"int\") to str",
     "output_type": "error",
     "traceback": [
      "\u001b[1;31m---------------------------------------------------------------------------\u001b[0m",
      "\u001b[1;31mTypeError\u001b[0m                                 Traceback (most recent call last)",
      "\u001b[1;32m~\\AppData\\Local\\Temp/ipykernel_17200/417106373.py\u001b[0m in \u001b[0;36m<module>\u001b[1;34m\u001b[0m\n\u001b[1;32m----> 1\u001b[1;33m \u001b[1;34m'5'\u001b[0m \u001b[1;33m+\u001b[0m \u001b[1;36m5\u001b[0m\u001b[1;33m\u001b[0m\u001b[1;33m\u001b[0m\u001b[0m\n\u001b[0m",
      "\u001b[1;31mTypeError\u001b[0m: can only concatenate str (not \"int\") to str"
     ]
    }
   ],
   "source": [
    "'5' + 5"
   ]
  },
  {
   "cell_type": "code",
   "execution_count": 73,
   "id": "007987dc",
   "metadata": {},
   "outputs": [],
   "source": [
    "#isinstance 함수를 이용하면 객체의 자료형을 검사할 수 있음"
   ]
  },
  {
   "cell_type": "code",
   "execution_count": 74,
   "id": "2c77b5f9",
   "metadata": {},
   "outputs": [],
   "source": [
    "a = 5"
   ]
  },
  {
   "cell_type": "code",
   "execution_count": 75,
   "id": "9706a018",
   "metadata": {},
   "outputs": [
    {
     "data": {
      "text/plain": [
       "True"
      ]
     },
     "execution_count": 75,
     "metadata": {},
     "output_type": "execute_result"
    }
   ],
   "source": [
    "isinstance(a, int)"
   ]
  },
  {
   "cell_type": "code",
   "execution_count": 76,
   "id": "df63fec4",
   "metadata": {},
   "outputs": [],
   "source": [
    "#isinstance는 튜플을 넘겨 객체의 자료형이 주어진 튜플 중 하나인지 검사할 수도 있다"
   ]
  },
  {
   "cell_type": "code",
   "execution_count": 77,
   "id": "8c904a7e",
   "metadata": {},
   "outputs": [],
   "source": [
    "a = 5; b = 4.5"
   ]
  },
  {
   "cell_type": "code",
   "execution_count": 78,
   "id": "daadc06b",
   "metadata": {},
   "outputs": [
    {
     "data": {
      "text/plain": [
       "True"
      ]
     },
     "execution_count": 78,
     "metadata": {},
     "output_type": "execute_result"
    }
   ],
   "source": [
    "isinstance(a, (int, float))"
   ]
  },
  {
   "cell_type": "code",
   "execution_count": 79,
   "id": "34e6917e",
   "metadata": {},
   "outputs": [
    {
     "data": {
      "text/plain": [
       "True"
      ]
     },
     "execution_count": 79,
     "metadata": {},
     "output_type": "execute_result"
    }
   ],
   "source": [
    "isinstance(a, (int, float))"
   ]
  },
  {
   "cell_type": "markdown",
   "id": "da1193ef",
   "metadata": {},
   "source": [
    "# 속성과 메소드"
   ]
  },
  {
   "cell_type": "markdown",
   "id": "7c0f9ff0",
   "metadata": {},
   "source": [
    "파이썬에서 객체는 속성과 메서드를 가짐, obj.attribute_name문법으로 접근 할 수 있음"
   ]
  },
  {
   "cell_type": "code",
   "execution_count": 80,
   "id": "494f4f7b",
   "metadata": {},
   "outputs": [],
   "source": [
    "a = 'foo'"
   ]
  },
  {
   "cell_type": "code",
   "execution_count": 81,
   "id": "48cbc27d",
   "metadata": {},
   "outputs": [],
   "source": [
    "#a. <TAB>"
   ]
  },
  {
   "cell_type": "code",
   "execution_count": 83,
   "id": "e9f7363b",
   "metadata": {},
   "outputs": [],
   "source": [
    "#속성과 메서드는 getattr 함수를 통해 이름으로 접근하는 것도 가능"
   ]
  },
  {
   "cell_type": "code",
   "execution_count": 82,
   "id": "c8d4b7ff",
   "metadata": {
    "scrolled": true
   },
   "outputs": [
    {
     "data": {
      "text/plain": [
       "<function str.split(sep=None, maxsplit=-1)>"
      ]
     },
     "execution_count": 82,
     "metadata": {},
     "output_type": "execute_result"
    }
   ],
   "source": [
    "getattr(a,'split')"
   ]
  },
  {
   "cell_type": "markdown",
   "id": "dbdd506d",
   "metadata": {},
   "source": [
    "# 문자열"
   ]
  },
  {
   "cell_type": "code",
   "execution_count": 87,
   "id": "5663767d",
   "metadata": {},
   "outputs": [],
   "source": [
    "# 개행 문자의 수는 count 메서드를 이용해서 확인할 수 있다"
   ]
  },
  {
   "cell_type": "code",
   "execution_count": 85,
   "id": "299201f5",
   "metadata": {},
   "outputs": [],
   "source": [
    "c = '''\n",
    "여러 줄에 걸친 문자열은\n",
    "따옴표 세 개로 둘러싼다.\n",
    "'''"
   ]
  },
  {
   "cell_type": "code",
   "execution_count": 86,
   "id": "eef838a1",
   "metadata": {},
   "outputs": [
    {
     "data": {
      "text/plain": [
       "3"
      ]
     },
     "execution_count": 86,
     "metadata": {},
     "output_type": "execute_result"
    }
   ],
   "source": [
    "c.count('\\n')"
   ]
  },
  {
   "cell_type": "code",
   "execution_count": 88,
   "id": "285cb074",
   "metadata": {},
   "outputs": [],
   "source": [
    "# 많은 객체는 str함수를 이용해 문자열로 변환 가능"
   ]
  },
  {
   "cell_type": "code",
   "execution_count": 89,
   "id": "37d8f86c",
   "metadata": {},
   "outputs": [],
   "source": [
    "a=5.6"
   ]
  },
  {
   "cell_type": "code",
   "execution_count": 90,
   "id": "cc090e4d",
   "metadata": {},
   "outputs": [],
   "source": [
    "s=str(a)"
   ]
  },
  {
   "cell_type": "code",
   "execution_count": 91,
   "id": "fe87a1ff",
   "metadata": {},
   "outputs": [
    {
     "name": "stdout",
     "output_type": "stream",
     "text": [
      "5.6\n"
     ]
    }
   ],
   "source": [
    "print(s)"
   ]
  },
  {
   "cell_type": "code",
   "execution_count": 92,
   "id": "34fdb38d",
   "metadata": {},
   "outputs": [],
   "source": [
    "# 문자열은 일련의 유니코드 문자이며 리스트나 튜플같은 다른 순차적인 자료형과 같이 취급"
   ]
  },
  {
   "cell_type": "code",
   "execution_count": 93,
   "id": "2c0a93b1",
   "metadata": {},
   "outputs": [],
   "source": [
    "s = \"python\""
   ]
  },
  {
   "cell_type": "code",
   "execution_count": 94,
   "id": "9ef7a1fb",
   "metadata": {},
   "outputs": [
    {
     "data": {
      "text/plain": [
       "['p', 'y', 't', 'h', 'o', 'n']"
      ]
     },
     "execution_count": 94,
     "metadata": {},
     "output_type": "execute_result"
    }
   ],
   "source": [
    "list(s)"
   ]
  },
  {
   "cell_type": "code",
   "execution_count": 95,
   "id": "b439ca4f",
   "metadata": {},
   "outputs": [
    {
     "data": {
      "text/plain": [
       "'pyt'"
      ]
     },
     "execution_count": 95,
     "metadata": {},
     "output_type": "execute_result"
    }
   ],
   "source": [
    "s[:3]"
   ]
  },
  {
   "cell_type": "code",
   "execution_count": 96,
   "id": "73cd2ee2",
   "metadata": {},
   "outputs": [],
   "source": [
    "#문자열 앞에 r을 써서 문자열을 있는 그대로 해석하도록 할 수 있음"
   ]
  },
  {
   "cell_type": "code",
   "execution_count": 97,
   "id": "0d0cfb62",
   "metadata": {},
   "outputs": [],
   "source": [
    "s = r\"test\\test\\test\""
   ]
  },
  {
   "cell_type": "code",
   "execution_count": 98,
   "id": "94e96dcd",
   "metadata": {},
   "outputs": [
    {
     "data": {
      "text/plain": [
       "'test\\\\test\\\\test'"
      ]
     },
     "execution_count": 98,
     "metadata": {},
     "output_type": "execute_result"
    }
   ],
   "source": [
    "s"
   ]
  },
  {
   "cell_type": "markdown",
   "id": "a600f7e4",
   "metadata": {},
   "source": [
    "# None"
   ]
  },
  {
   "cell_type": "markdown",
   "id": "1b05e284",
   "metadata": {},
   "source": [
    "none은 파이썬에서 사용하는 널값, 묵시적으로 none을 반환"
   ]
  },
  {
   "cell_type": "code",
   "execution_count": 99,
   "id": "ca4252ad",
   "metadata": {},
   "outputs": [],
   "source": [
    "a = None"
   ]
  },
  {
   "cell_type": "code",
   "execution_count": 100,
   "id": "fe78da76",
   "metadata": {},
   "outputs": [
    {
     "data": {
      "text/plain": [
       "True"
      ]
     },
     "execution_count": 100,
     "metadata": {},
     "output_type": "execute_result"
    }
   ],
   "source": [
    "a is None"
   ]
  },
  {
   "cell_type": "code",
   "execution_count": 101,
   "id": "e55efa2f",
   "metadata": {},
   "outputs": [],
   "source": [
    "# 또한 None은 함수 인자의 기본값으로 흔히 사용된다"
   ]
  },
  {
   "cell_type": "code",
   "execution_count": 102,
   "id": "b39d475b",
   "metadata": {},
   "outputs": [],
   "source": [
    "def add_and_maybe_multiply(a,b,c=None):\n",
    "    result = a+b\n",
    "    \n",
    "    if c is not None:\n",
    "        result = result*c\n",
    "    return result"
   ]
  },
  {
   "cell_type": "code",
   "execution_count": 103,
   "id": "7dfcab8b",
   "metadata": {},
   "outputs": [],
   "source": [
    "#None은 예약어가 아니라 NoneType의 유일한 인스턴스"
   ]
  },
  {
   "cell_type": "code",
   "execution_count": 104,
   "id": "f72bf793",
   "metadata": {},
   "outputs": [
    {
     "data": {
      "text/plain": [
       "NoneType"
      ]
     },
     "execution_count": 104,
     "metadata": {},
     "output_type": "execute_result"
    }
   ],
   "source": [
    "type(None)"
   ]
  },
  {
   "cell_type": "markdown",
   "id": "bb456ac7",
   "metadata": {},
   "source": [
    "# 날짜와 시간"
   ]
  },
  {
   "cell_type": "markdown",
   "id": "ee925123",
   "metadata": {},
   "source": [
    "파이썬 내장 datetime 모듈은 datetime,date 그리고 time을 지원, datetime형은 date와 time 정보를 함께 저장하며 주로 사용되는 자료형"
   ]
  },
  {
   "cell_type": "code",
   "execution_count": 105,
   "id": "db9533c6",
   "metadata": {},
   "outputs": [],
   "source": [
    "from datetime import datetime, date, time"
   ]
  },
  {
   "cell_type": "code",
   "execution_count": 106,
   "id": "a0fbb46a",
   "metadata": {},
   "outputs": [],
   "source": [
    "dt = datetime(2021, 9, 7, 23, 7, 5)"
   ]
  },
  {
   "cell_type": "code",
   "execution_count": 107,
   "id": "83cf10cb",
   "metadata": {},
   "outputs": [
    {
     "data": {
      "text/plain": [
       "7"
      ]
     },
     "execution_count": 107,
     "metadata": {},
     "output_type": "execute_result"
    }
   ],
   "source": [
    "dt.day"
   ]
  },
  {
   "cell_type": "code",
   "execution_count": 108,
   "id": "a19d0f90",
   "metadata": {},
   "outputs": [
    {
     "data": {
      "text/plain": [
       "7"
      ]
     },
     "execution_count": 108,
     "metadata": {},
     "output_type": "execute_result"
    }
   ],
   "source": [
    "dt.minute"
   ]
  },
  {
   "cell_type": "code",
   "execution_count": 109,
   "id": "071715d2",
   "metadata": {},
   "outputs": [],
   "source": [
    "#datetime 인스턴스에서 date 메서드와 time메서드를 사용해 해당 datetime의 날짜와 시간을 추출함"
   ]
  },
  {
   "cell_type": "code",
   "execution_count": 110,
   "id": "cbbf2be4",
   "metadata": {},
   "outputs": [
    {
     "data": {
      "text/plain": [
       "datetime.date(2021, 9, 7)"
      ]
     },
     "execution_count": 110,
     "metadata": {},
     "output_type": "execute_result"
    }
   ],
   "source": [
    "dt.date()"
   ]
  },
  {
   "cell_type": "code",
   "execution_count": 111,
   "id": "fe8541f6",
   "metadata": {},
   "outputs": [
    {
     "data": {
      "text/plain": [
       "datetime.time(23, 7, 5)"
      ]
     },
     "execution_count": 111,
     "metadata": {},
     "output_type": "execute_result"
    }
   ],
   "source": [
    "dt.time()"
   ]
  },
  {
   "cell_type": "code",
   "execution_count": 112,
   "id": "7a4367a3",
   "metadata": {},
   "outputs": [],
   "source": [
    "#strftime 메서드는 datetime을 문자열로 만들어줌"
   ]
  },
  {
   "cell_type": "code",
   "execution_count": 114,
   "id": "43559154",
   "metadata": {},
   "outputs": [
    {
     "data": {
      "text/plain": [
       "'09/07/2021 23:07:05'"
      ]
     },
     "execution_count": 114,
     "metadata": {},
     "output_type": "execute_result"
    }
   ],
   "source": [
    "dt.strftime('%m/%d/%Y %H:%M:%S')"
   ]
  },
  {
   "cell_type": "code",
   "execution_count": 115,
   "id": "e6bd461e",
   "metadata": {},
   "outputs": [],
   "source": [
    "#strptime 함수를 이용하면 문자열을 해석하여 datetime객체로 만들어준다"
   ]
  },
  {
   "cell_type": "code",
   "execution_count": 117,
   "id": "e82e6152",
   "metadata": {},
   "outputs": [
    {
     "data": {
      "text/plain": [
       "datetime.datetime(2009, 10, 31, 0, 0)"
      ]
     },
     "execution_count": 117,
     "metadata": {},
     "output_type": "execute_result"
    }
   ],
   "source": [
    "datetime.strptime('20091031', '%Y%m%d')"
   ]
  },
  {
   "cell_type": "code",
   "execution_count": 118,
   "id": "a2af07ef",
   "metadata": {},
   "outputs": [],
   "source": [
    "#datetime의 필드를 치환해 새로운 객체 생성 가능"
   ]
  },
  {
   "cell_type": "code",
   "execution_count": 119,
   "id": "db9d311d",
   "metadata": {},
   "outputs": [
    {
     "data": {
      "text/plain": [
       "datetime.datetime(2021, 9, 7, 23, 0)"
      ]
     },
     "execution_count": 119,
     "metadata": {},
     "output_type": "execute_result"
    }
   ],
   "source": [
    "dt.replace(minute=0, second=0)"
   ]
  },
  {
   "cell_type": "code",
   "execution_count": 120,
   "id": "b3e83a50",
   "metadata": {},
   "outputs": [],
   "source": [
    "#datetime.datime은 변경 불가능하며, 이런 메서드들은 항상 새로운 객체를 반환"
   ]
  },
  {
   "cell_type": "code",
   "execution_count": 124,
   "id": "2b78f3f7",
   "metadata": {},
   "outputs": [],
   "source": [
    "dt2= datetime(2021,11,15,22,30)"
   ]
  },
  {
   "cell_type": "code",
   "execution_count": 125,
   "id": "d3b54ce0",
   "metadata": {},
   "outputs": [],
   "source": [
    "delta = dt2-dt"
   ]
  },
  {
   "cell_type": "code",
   "execution_count": 126,
   "id": "3df32404",
   "metadata": {},
   "outputs": [
    {
     "data": {
      "text/plain": [
       "datetime.timedelta(days=68, seconds=84175)"
      ]
     },
     "execution_count": 126,
     "metadata": {},
     "output_type": "execute_result"
    }
   ],
   "source": [
    "delta"
   ]
  },
  {
   "cell_type": "code",
   "execution_count": 127,
   "id": "0e7ffa36",
   "metadata": {},
   "outputs": [
    {
     "data": {
      "text/plain": [
       "datetime.timedelta"
      ]
     },
     "execution_count": 127,
     "metadata": {},
     "output_type": "execute_result"
    }
   ],
   "source": [
    "type(delta)"
   ]
  },
  {
   "cell_type": "code",
   "execution_count": 128,
   "id": "7352a5ff",
   "metadata": {},
   "outputs": [],
   "source": [
    "#timedelta(68, 84175)의 결과는 68일 84175초만큼의 시간 차이를 나타낸다"
   ]
  },
  {
   "cell_type": "code",
   "execution_count": 129,
   "id": "c9ca5580",
   "metadata": {},
   "outputs": [],
   "source": [
    "#timedelta 객체를 datetime객체에 더하면 그만큼 시간이 미뤄진 datetime 객체를 얻을 수 있음"
   ]
  },
  {
   "cell_type": "code",
   "execution_count": 130,
   "id": "9a87e24e",
   "metadata": {},
   "outputs": [
    {
     "data": {
      "text/plain": [
       "datetime.datetime(2021, 9, 7, 23, 7, 5)"
      ]
     },
     "execution_count": 130,
     "metadata": {},
     "output_type": "execute_result"
    }
   ],
   "source": [
    "dt"
   ]
  },
  {
   "cell_type": "code",
   "execution_count": 131,
   "id": "db6d49b4",
   "metadata": {},
   "outputs": [
    {
     "data": {
      "text/plain": [
       "datetime.datetime(2021, 11, 15, 22, 30)"
      ]
     },
     "execution_count": 131,
     "metadata": {},
     "output_type": "execute_result"
    }
   ],
   "source": [
    "dt+delta"
   ]
  },
  {
   "cell_type": "markdown",
   "id": "eb5a1567",
   "metadata": {},
   "source": [
    "# pass"
   ]
  },
  {
   "cell_type": "markdown",
   "id": "e516f306",
   "metadata": {},
   "source": [
    "파이썬에서 pass는 아무 것도 하지 않음을 나타낸다. 이는 블록 내에서 어떤 작업도 실행하지 않을 때 사용한다."
   ]
  },
  {
   "cell_type": "code",
   "execution_count": 133,
   "id": "5581b1d2",
   "metadata": {},
   "outputs": [],
   "source": [
    "#아직 구현하지 않은 코드를 나중에 추가하기 위한 플레이스홀더 용도로도 사용"
   ]
  },
  {
   "cell_type": "code",
   "execution_count": 134,
   "id": "3f4ae310",
   "metadata": {},
   "outputs": [],
   "source": [
    "x = 0\n",
    "if x<0:\n",
    "    print(\"negative!\")\n",
    "elif x == 0:\n",
    "    # TODO: 여기에 내용 채울 것\n",
    "    pass\n",
    "else:\n",
    "    print(\"positive!\")"
   ]
  },
  {
   "cell_type": "markdown",
   "id": "d4eec5d6",
   "metadata": {},
   "source": [
    "# 삼항 표현식"
   ]
  },
  {
   "cell_type": "markdown",
   "id": "c4dcf86e",
   "metadata": {},
   "source": [
    "파이썬의 삼항 표현식은 if-else 블록을 한 줄로 표현할 수 있도록 한다"
   ]
  },
  {
   "cell_type": "code",
   "execution_count": 136,
   "id": "9372cd6b",
   "metadata": {},
   "outputs": [],
   "source": [
    "#value = true-expr if condition else false-expr\n",
    "#       =\n",
    "#if condition:\n",
    "    #value = true-expr\n",
    "#else:\n",
    "    #value = false-expr"
   ]
  },
  {
   "cell_type": "code",
   "execution_count": 137,
   "id": "ebb0c29b",
   "metadata": {},
   "outputs": [],
   "source": [
    "x = 5"
   ]
  },
  {
   "cell_type": "code",
   "execution_count": 138,
   "id": "9b35b6f0",
   "metadata": {},
   "outputs": [
    {
     "data": {
      "text/plain": [
       "'non-negative'"
      ]
     },
     "execution_count": 138,
     "metadata": {},
     "output_type": "execute_result"
    }
   ],
   "source": [
    "\"non-negative\" if x>= 0 else \"Negative\""
   ]
  },
  {
   "cell_type": "code",
   "execution_count": null,
   "id": "79453c4f",
   "metadata": {},
   "outputs": [],
   "source": []
  }
 ],
 "metadata": {
  "kernelspec": {
   "display_name": "Python 3 (ipykernel)",
   "language": "python",
   "name": "python3"
  },
  "language_info": {
   "codemirror_mode": {
    "name": "ipython",
    "version": 3
   },
   "file_extension": ".py",
   "mimetype": "text/x-python",
   "name": "python",
   "nbconvert_exporter": "python",
   "pygments_lexer": "ipython3",
   "version": "3.8.10"
  }
 },
 "nbformat": 4,
 "nbformat_minor": 5
}
