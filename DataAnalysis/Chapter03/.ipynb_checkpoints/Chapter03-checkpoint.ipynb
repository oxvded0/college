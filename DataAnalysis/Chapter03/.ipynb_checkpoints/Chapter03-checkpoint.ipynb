{
 "cells": [
  {
   "cell_type": "markdown",
   "id": "b6a387d1",
   "metadata": {},
   "source": [
    "# 3.1.1 튜플"
   ]
  },
  {
   "cell_type": "code",
   "execution_count": 1,
   "id": "b3e7a9d3",
   "metadata": {},
   "outputs": [],
   "source": [
    "#튜플 생성하는 가장 쉬운 방법은 쉼표로 구분된 값을 대입하는 것"
   ]
  },
  {
   "cell_type": "code",
   "execution_count": 2,
   "id": "2f382974",
   "metadata": {},
   "outputs": [],
   "source": [
    "tup = 4,5,6"
   ]
  },
  {
   "cell_type": "code",
   "execution_count": 3,
   "id": "c0dad9de",
   "metadata": {},
   "outputs": [
    {
     "data": {
      "text/plain": [
       "(4, 5, 6)"
      ]
     },
     "execution_count": 3,
     "metadata": {},
     "output_type": "execute_result"
    }
   ],
   "source": [
    "tup"
   ]
  },
  {
   "cell_type": "code",
   "execution_count": 4,
   "id": "1269beda",
   "metadata": {},
   "outputs": [],
   "source": [
    "# 괄호를 사용해 중첩된 튜플 정의 가능"
   ]
  },
  {
   "cell_type": "code",
   "execution_count": 5,
   "id": "cabe4f4a",
   "metadata": {},
   "outputs": [],
   "source": [
    "nested_tup = (4,5,6),(7,8)"
   ]
  },
  {
   "cell_type": "code",
   "execution_count": 6,
   "id": "4552043a",
   "metadata": {},
   "outputs": [
    {
     "data": {
      "text/plain": [
       "((4, 5, 6), (7, 8))"
      ]
     },
     "execution_count": 6,
     "metadata": {},
     "output_type": "execute_result"
    }
   ],
   "source": [
    "nested_tup"
   ]
  },
  {
   "cell_type": "code",
   "execution_count": 7,
   "id": "38872df0",
   "metadata": {},
   "outputs": [],
   "source": [
    "# 모든 순차 자료형, 이터레이터는 튜플로 변환 가능"
   ]
  },
  {
   "cell_type": "code",
   "execution_count": 8,
   "id": "a9596113",
   "metadata": {},
   "outputs": [
    {
     "data": {
      "text/plain": [
       "(4, 0, 2)"
      ]
     },
     "execution_count": 8,
     "metadata": {},
     "output_type": "execute_result"
    }
   ],
   "source": [
    "tuple([4,0,2])"
   ]
  },
  {
   "cell_type": "code",
   "execution_count": 9,
   "id": "76a6fd54",
   "metadata": {},
   "outputs": [],
   "source": [
    "tup = tuple(\"string\")"
   ]
  },
  {
   "cell_type": "code",
   "execution_count": 10,
   "id": "df1b3031",
   "metadata": {},
   "outputs": [
    {
     "data": {
      "text/plain": [
       "('s', 't', 'r', 'i', 'n', 'g')"
      ]
     },
     "execution_count": 10,
     "metadata": {},
     "output_type": "execute_result"
    }
   ],
   "source": [
    "tup"
   ]
  },
  {
   "cell_type": "code",
   "execution_count": 11,
   "id": "c47ce572",
   "metadata": {},
   "outputs": [],
   "source": [
    "#튜플에 저장된 객체 자체는 변경 가능, 한 번 생성되면 각 슬롯에 저장된 객체는 변경 불가능"
   ]
  },
  {
   "cell_type": "code",
   "execution_count": 12,
   "id": "32270966",
   "metadata": {},
   "outputs": [],
   "source": [
    "tup = tuple([\"foo\", [1,2], True])"
   ]
  },
  {
   "cell_type": "code",
   "execution_count": 14,
   "id": "051c729a",
   "metadata": {},
   "outputs": [
    {
     "ename": "TypeError",
     "evalue": "'tuple' object does not support item assignment",
     "output_type": "error",
     "traceback": [
      "\u001b[1;31m---------------------------------------------------------------------------\u001b[0m",
      "\u001b[1;31mTypeError\u001b[0m                                 Traceback (most recent call last)",
      "\u001b[1;32m~\\AppData\\Local\\Temp/ipykernel_14484/3440851503.py\u001b[0m in \u001b[0;36m<module>\u001b[1;34m\u001b[0m\n\u001b[1;32m----> 1\u001b[1;33m \u001b[0mtup\u001b[0m\u001b[1;33m[\u001b[0m\u001b[1;36m2\u001b[0m\u001b[1;33m]\u001b[0m \u001b[1;33m=\u001b[0m \u001b[1;32mFalse\u001b[0m\u001b[1;33m\u001b[0m\u001b[1;33m\u001b[0m\u001b[0m\n\u001b[0m",
      "\u001b[1;31mTypeError\u001b[0m: 'tuple' object does not support item assignment"
     ]
    }
   ],
   "source": [
    "tup[2] = False"
   ]
  },
  {
   "cell_type": "code",
   "execution_count": 15,
   "id": "f73285f1",
   "metadata": {},
   "outputs": [],
   "source": [
    "#튜플 내에 저장된 객체는 그 위치에서 바로 변경 가능"
   ]
  },
  {
   "cell_type": "code",
   "execution_count": 16,
   "id": "2db7dbc1",
   "metadata": {},
   "outputs": [
    {
     "data": {
      "text/plain": [
       "('foo', [1, 2], True)"
      ]
     },
     "execution_count": 16,
     "metadata": {},
     "output_type": "execute_result"
    }
   ],
   "source": [
    "tup"
   ]
  },
  {
   "cell_type": "code",
   "execution_count": 17,
   "id": "c24fd5cd",
   "metadata": {},
   "outputs": [],
   "source": [
    "tup[1].append(3)"
   ]
  },
  {
   "cell_type": "code",
   "execution_count": 18,
   "id": "7359f27d",
   "metadata": {},
   "outputs": [
    {
     "data": {
      "text/plain": [
       "('foo', [1, 2, 3], True)"
      ]
     },
     "execution_count": 18,
     "metadata": {},
     "output_type": "execute_result"
    }
   ],
   "source": [
    "tup"
   ]
  },
  {
   "cell_type": "code",
   "execution_count": 19,
   "id": "7181550d",
   "metadata": {},
   "outputs": [],
   "source": [
    "# +연산자를 이용해서 튜플을 이어붙일 수 있음"
   ]
  },
  {
   "cell_type": "code",
   "execution_count": 20,
   "id": "c3cba79b",
   "metadata": {},
   "outputs": [
    {
     "data": {
      "text/plain": [
       "(4, None, 'foo', 6, 0, 'bar')"
      ]
     },
     "execution_count": 20,
     "metadata": {},
     "output_type": "execute_result"
    }
   ],
   "source": [
    "(4,None,'foo')+(6,0)+(\"bar\",)"
   ]
  },
  {
   "cell_type": "code",
   "execution_count": 21,
   "id": "305da3e0",
   "metadata": {},
   "outputs": [],
   "source": [
    "#튜플에 정수를 곱하면 리스트와 마찬가지로 튜플의 복사본이 반복되어 늘어남"
   ]
  },
  {
   "cell_type": "code",
   "execution_count": 22,
   "id": "e01ee1e8",
   "metadata": {},
   "outputs": [
    {
     "data": {
      "text/plain": [
       "('foo', 'bar', 'foo', 'bar', 'foo', 'bar', 'foo', 'bar')"
      ]
     },
     "execution_count": 22,
     "metadata": {},
     "output_type": "execute_result"
    }
   ],
   "source": [
    "(\"foo\", \"bar\")*4"
   ]
  },
  {
   "cell_type": "code",
   "execution_count": 23,
   "id": "687f1fc7",
   "metadata": {},
   "outputs": [],
   "source": [
    "#튜플 안에 객체는 복사되지 않고 그 객체에 대한 참조만 복사됨"
   ]
  },
  {
   "cell_type": "markdown",
   "id": "6b311e3e",
   "metadata": {},
   "source": [
    "튜플에서 값 분라하기"
   ]
  },
  {
   "cell_type": "code",
   "execution_count": 24,
   "id": "98915d2a",
   "metadata": {},
   "outputs": [],
   "source": [
    "# 튜플과 같은 표현의 변수를 대입하면 값을 분리"
   ]
  },
  {
   "cell_type": "code",
   "execution_count": 25,
   "id": "4a9f6e7d",
   "metadata": {},
   "outputs": [],
   "source": [
    "tup = (4,5,6)"
   ]
  },
  {
   "cell_type": "code",
   "execution_count": 26,
   "id": "51267500",
   "metadata": {},
   "outputs": [],
   "source": [
    "a,b,c = tup"
   ]
  },
  {
   "cell_type": "code",
   "execution_count": 27,
   "id": "45d24dc1",
   "metadata": {},
   "outputs": [
    {
     "data": {
      "text/plain": [
       "5"
      ]
     },
     "execution_count": 27,
     "metadata": {},
     "output_type": "execute_result"
    }
   ],
   "source": [
    "b"
   ]
  },
  {
   "cell_type": "code",
   "execution_count": 28,
   "id": "89069c87",
   "metadata": {},
   "outputs": [],
   "source": [
    "tup = 4,5,(6,7)"
   ]
  },
  {
   "cell_type": "code",
   "execution_count": 29,
   "id": "35b5f592",
   "metadata": {},
   "outputs": [],
   "source": [
    "a,b,(c,d) = tup"
   ]
  },
  {
   "cell_type": "code",
   "execution_count": 30,
   "id": "1a47e998",
   "metadata": {},
   "outputs": [
    {
     "data": {
      "text/plain": [
       "7"
      ]
     },
     "execution_count": 30,
     "metadata": {},
     "output_type": "execute_result"
    }
   ],
   "source": [
    "d"
   ]
  },
  {
   "cell_type": "code",
   "execution_count": 31,
   "id": "6e92cd29",
   "metadata": {},
   "outputs": [],
   "source": [
    "# 파이썬에서는 다음과 같이 하여 두 변수의 값을 쉽게 바꿈"
   ]
  },
  {
   "cell_type": "code",
   "execution_count": 32,
   "id": "41fb422e",
   "metadata": {},
   "outputs": [],
   "source": [
    "a,b = 1,2"
   ]
  },
  {
   "cell_type": "code",
   "execution_count": 33,
   "id": "1d5cb731",
   "metadata": {},
   "outputs": [
    {
     "data": {
      "text/plain": [
       "(1, 2)"
      ]
     },
     "execution_count": 33,
     "metadata": {},
     "output_type": "execute_result"
    }
   ],
   "source": [
    "a,b"
   ]
  },
  {
   "cell_type": "code",
   "execution_count": 34,
   "id": "a22b9da8",
   "metadata": {},
   "outputs": [],
   "source": [
    "b,a = a,b"
   ]
  },
  {
   "cell_type": "code",
   "execution_count": 35,
   "id": "09fee9f3",
   "metadata": {},
   "outputs": [
    {
     "data": {
      "text/plain": [
       "(2, 1)"
      ]
     },
     "execution_count": 35,
     "metadata": {},
     "output_type": "execute_result"
    }
   ],
   "source": [
    "a,b"
   ]
  },
  {
   "cell_type": "code",
   "execution_count": 36,
   "id": "cb4c0882",
   "metadata": {},
   "outputs": [],
   "source": [
    "# 튜플이나 리스트를 순회할 때도 흔히 이 기능을 활용"
   ]
  },
  {
   "cell_type": "code",
   "execution_count": 37,
   "id": "c26d260b",
   "metadata": {},
   "outputs": [],
   "source": [
    "seq = [(1,2,3),(4,5,6),(7,8,9)]"
   ]
  },
  {
   "cell_type": "code",
   "execution_count": 38,
   "id": "6b4dc973",
   "metadata": {},
   "outputs": [
    {
     "name": "stdout",
     "output_type": "stream",
     "text": [
      "a=1, b=2, c=3\n",
      "a=4, b=5, c=6\n",
      "a=7, b=8, c=9\n"
     ]
    }
   ],
   "source": [
    "for a,b,c in seq:\n",
    "    print(\"a={0}, b={1}, c={2}\".format(a,b,c))"
   ]
  },
  {
   "cell_type": "code",
   "execution_count": 40,
   "id": "8456d2e8",
   "metadata": {},
   "outputs": [],
   "source": [
    "# 함수의 시그니처에서 길이를 알 수 없는 긴 인자를 담기 위해 쓰는 *rest"
   ]
  },
  {
   "cell_type": "code",
   "execution_count": 41,
   "id": "fafbb907",
   "metadata": {},
   "outputs": [],
   "source": [
    "values = 1,2,3,4,5"
   ]
  },
  {
   "cell_type": "code",
   "execution_count": 42,
   "id": "edaee251",
   "metadata": {},
   "outputs": [],
   "source": [
    "a,b,*rest = values"
   ]
  },
  {
   "cell_type": "code",
   "execution_count": 43,
   "id": "1f234fad",
   "metadata": {},
   "outputs": [
    {
     "data": {
      "text/plain": [
       "(1, 2)"
      ]
     },
     "execution_count": 43,
     "metadata": {},
     "output_type": "execute_result"
    }
   ],
   "source": [
    "a,b"
   ]
  },
  {
   "cell_type": "code",
   "execution_count": 44,
   "id": "4e2cb132",
   "metadata": {},
   "outputs": [
    {
     "data": {
      "text/plain": [
       "[3, 4, 5]"
      ]
     },
     "execution_count": 44,
     "metadata": {},
     "output_type": "execute_result"
    }
   ],
   "source": [
    "rest"
   ]
  },
  {
   "cell_type": "code",
   "execution_count": 45,
   "id": "1402f8cb",
   "metadata": {},
   "outputs": [],
   "source": [
    "# rest라는 이름에는 별 의미 없음, _를 대신 사용하기도 함"
   ]
  },
  {
   "cell_type": "code",
   "execution_count": 46,
   "id": "b7bda73b",
   "metadata": {},
   "outputs": [],
   "source": [
    "a,b,*_ = values"
   ]
  },
  {
   "cell_type": "code",
   "execution_count": 47,
   "id": "e8399744",
   "metadata": {},
   "outputs": [
    {
     "data": {
      "text/plain": [
       "[3, 4, 5]"
      ]
     },
     "execution_count": 47,
     "metadata": {},
     "output_type": "execute_result"
    }
   ],
   "source": [
    "_"
   ]
  },
  {
   "cell_type": "code",
   "execution_count": 48,
   "id": "4a4ecfbc",
   "metadata": {},
   "outputs": [],
   "source": [
    "# 튜플 메서드는 많지 않다, count 메서드는 주어진 값과 같은 값이 몇 개 있는지 반환한다"
   ]
  },
  {
   "cell_type": "code",
   "execution_count": 49,
   "id": "76162803",
   "metadata": {},
   "outputs": [],
   "source": [
    "a = (1,2,2,2,3,4,2)"
   ]
  },
  {
   "cell_type": "code",
   "execution_count": 50,
   "id": "e48884cd",
   "metadata": {},
   "outputs": [
    {
     "data": {
      "text/plain": [
       "4"
      ]
     },
     "execution_count": 50,
     "metadata": {},
     "output_type": "execute_result"
    }
   ],
   "source": [
    "a.count(2)"
   ]
  },
  {
   "cell_type": "markdown",
   "id": "8bea3da5",
   "metadata": {},
   "source": [
    "# 리스트"
   ]
  },
  {
   "cell_type": "code",
   "execution_count": 51,
   "id": "881e3a17",
   "metadata": {},
   "outputs": [],
   "source": [
    "#insert는 append에 비해 연산비용이 많이 든다. 순차 자료형의 시작과 끝 지점에 원소를 추가하고 싶다면 collections,deque를 사용하자"
   ]
  },
  {
   "cell_type": "code",
   "execution_count": 52,
   "id": "40202f21",
   "metadata": {},
   "outputs": [],
   "source": [
    "b_list = [\"foo\",\"peekaboo\", \"baz\"]"
   ]
  },
  {
   "cell_type": "code",
   "execution_count": 53,
   "id": "be855c9b",
   "metadata": {},
   "outputs": [],
   "source": [
    "b_list.append(\"dwarf\")"
   ]
  },
  {
   "cell_type": "code",
   "execution_count": 54,
   "id": "c43cc5f0",
   "metadata": {},
   "outputs": [
    {
     "data": {
      "text/plain": [
       "['foo', 'peekaboo', 'baz', 'dwarf']"
      ]
     },
     "execution_count": 54,
     "metadata": {},
     "output_type": "execute_result"
    }
   ],
   "source": [
    "b_list"
   ]
  },
  {
   "cell_type": "code",
   "execution_count": 55,
   "id": "9f1783e6",
   "metadata": {},
   "outputs": [],
   "source": [
    "b_list.insert(1,\"red\")"
   ]
  },
  {
   "cell_type": "code",
   "execution_count": 56,
   "id": "c971dd23",
   "metadata": {},
   "outputs": [
    {
     "data": {
      "text/plain": [
       "['foo', 'red', 'peekaboo', 'baz', 'dwarf']"
      ]
     },
     "execution_count": 56,
     "metadata": {},
     "output_type": "execute_result"
    }
   ],
   "source": [
    "b_list"
   ]
  },
  {
   "cell_type": "code",
   "execution_count": 57,
   "id": "4fa03d62",
   "metadata": {},
   "outputs": [],
   "source": [
    "b_list[1] = \"blue\""
   ]
  },
  {
   "cell_type": "code",
   "execution_count": 58,
   "id": "3e9e550f",
   "metadata": {},
   "outputs": [
    {
     "data": {
      "text/plain": [
       "['foo', 'blue', 'peekaboo', 'baz', 'dwarf']"
      ]
     },
     "execution_count": 58,
     "metadata": {},
     "output_type": "execute_result"
    }
   ],
   "source": [
    "b_list"
   ]
  },
  {
   "cell_type": "code",
   "execution_count": 59,
   "id": "134ca6ae",
   "metadata": {},
   "outputs": [],
   "source": [
    "#반대로는 pop과 remove가 있다 remove는 리스트 제일 앞의 값부터 삭제한다"
   ]
  },
  {
   "cell_type": "code",
   "execution_count": 64,
   "id": "9bb83059",
   "metadata": {},
   "outputs": [
    {
     "data": {
      "text/plain": [
       "'dwarf'"
      ]
     },
     "execution_count": 64,
     "metadata": {},
     "output_type": "execute_result"
    }
   ],
   "source": [
    "b_list.pop(2)"
   ]
  },
  {
   "cell_type": "code",
   "execution_count": 61,
   "id": "5dced8d5",
   "metadata": {},
   "outputs": [
    {
     "data": {
      "text/plain": [
       "['foo', 'blue', 'baz', 'dwarf']"
      ]
     },
     "execution_count": 61,
     "metadata": {},
     "output_type": "execute_result"
    }
   ],
   "source": [
    "b_list"
   ]
  },
  {
   "cell_type": "code",
   "execution_count": 65,
   "id": "0327d545",
   "metadata": {},
   "outputs": [],
   "source": [
    "b_list.append(\"foo\")"
   ]
  },
  {
   "cell_type": "code",
   "execution_count": 66,
   "id": "6b5f677b",
   "metadata": {},
   "outputs": [
    {
     "data": {
      "text/plain": [
       "['foo', 'blue', 'baz', 'dwarf', 'foo']"
      ]
     },
     "execution_count": 66,
     "metadata": {},
     "output_type": "execute_result"
    }
   ],
   "source": [
    "b_list"
   ]
  },
  {
   "cell_type": "code",
   "execution_count": 67,
   "id": "a205407e",
   "metadata": {},
   "outputs": [],
   "source": [
    "b_list.remove(\"foo\")"
   ]
  },
  {
   "cell_type": "code",
   "execution_count": 68,
   "id": "3def5ff8",
   "metadata": {},
   "outputs": [
    {
     "data": {
      "text/plain": [
       "['blue', 'baz', 'dwarf', 'foo']"
      ]
     },
     "execution_count": 68,
     "metadata": {},
     "output_type": "execute_result"
    }
   ],
   "source": [
    "b_list"
   ]
  },
  {
   "cell_type": "code",
   "execution_count": 69,
   "id": "75234fe3",
   "metadata": {},
   "outputs": [],
   "source": [
    "# in과 not을 사용해 리스트에 어떤 값이 있는지 검사 가능\""
   ]
  },
  {
   "cell_type": "code",
   "execution_count": 71,
   "id": "515c0bdd",
   "metadata": {},
   "outputs": [
    {
     "data": {
      "text/plain": [
       "True"
      ]
     },
     "execution_count": 71,
     "metadata": {},
     "output_type": "execute_result"
    }
   ],
   "source": [
    "\"dwarf\" in b_list"
   ]
  },
  {
   "cell_type": "code",
   "execution_count": 72,
   "id": "ac0be5a4",
   "metadata": {},
   "outputs": [
    {
     "data": {
      "text/plain": [
       "False"
      ]
     },
     "execution_count": 72,
     "metadata": {},
     "output_type": "execute_result"
    }
   ],
   "source": [
    "\"dwarf\" not in b_list"
   ]
  },
  {
   "cell_type": "code",
   "execution_count": 73,
   "id": "dff827f0",
   "metadata": {},
   "outputs": [],
   "source": [
    "# 튜플과 마찬가지로 + 연산자로 합칠 수 있음 허나 큰 리스트 일수록 extend 메서드를 사용하는 것이 연산비용에서 이득이다"
   ]
  },
  {
   "cell_type": "code",
   "execution_count": 74,
   "id": "59110957",
   "metadata": {},
   "outputs": [],
   "source": [
    "x = [4,None,\"foo\"]+[7,8,(2,3)]"
   ]
  },
  {
   "cell_type": "code",
   "execution_count": 75,
   "id": "1bf4a9f4",
   "metadata": {},
   "outputs": [
    {
     "data": {
      "text/plain": [
       "[4, None, 'foo', 7, 8, (2, 3)]"
      ]
     },
     "execution_count": 75,
     "metadata": {},
     "output_type": "execute_result"
    }
   ],
   "source": [
    "x"
   ]
  },
  {
   "cell_type": "code",
   "execution_count": 76,
   "id": "11435afa",
   "metadata": {},
   "outputs": [],
   "source": [
    "x = [4,None,\"foo\"]"
   ]
  },
  {
   "cell_type": "code",
   "execution_count": 77,
   "id": "a0c14269",
   "metadata": {},
   "outputs": [
    {
     "data": {
      "text/plain": [
       "[4, None, 'foo']"
      ]
     },
     "execution_count": 77,
     "metadata": {},
     "output_type": "execute_result"
    }
   ],
   "source": [
    "x"
   ]
  },
  {
   "cell_type": "code",
   "execution_count": 78,
   "id": "f38009ee",
   "metadata": {},
   "outputs": [],
   "source": [
    "x.extend([7,8,(2,3)])"
   ]
  },
  {
   "cell_type": "code",
   "execution_count": 79,
   "id": "d3e7a69b",
   "metadata": {},
   "outputs": [
    {
     "data": {
      "text/plain": [
       "[4, None, 'foo', 7, 8, (2, 3)]"
      ]
     },
     "execution_count": 79,
     "metadata": {},
     "output_type": "execute_result"
    }
   ],
   "source": [
    "x"
   ]
  },
  {
   "cell_type": "code",
   "execution_count": 81,
   "id": "7ca70fac",
   "metadata": {},
   "outputs": [],
   "source": [
    "# sort 함수로 리스트 정렬 가능, 여라가지 옵션을 제공하고 그 중 하나가 문자열 길이 순 정렬"
   ]
  },
  {
   "cell_type": "code",
   "execution_count": 82,
   "id": "32468b27",
   "metadata": {},
   "outputs": [],
   "source": [
    "b = [\"saw\", \"small\", \"He\", \"foxes\", \"six\"]"
   ]
  },
  {
   "cell_type": "code",
   "execution_count": 83,
   "id": "8f9e353e",
   "metadata": {},
   "outputs": [],
   "source": [
    "b.sort(key=len)"
   ]
  },
  {
   "cell_type": "code",
   "execution_count": 84,
   "id": "734a3f9d",
   "metadata": {},
   "outputs": [
    {
     "data": {
      "text/plain": [
       "['He', 'saw', 'six', 'small', 'foxes']"
      ]
     },
     "execution_count": 84,
     "metadata": {},
     "output_type": "execute_result"
    }
   ],
   "source": [
    "b"
   ]
  },
  {
   "cell_type": "code",
   "execution_count": 85,
   "id": "9f71681c",
   "metadata": {},
   "outputs": [],
   "source": [
    "#sorted 함수는 정렬된 복사본을 생성한다"
   ]
  },
  {
   "cell_type": "markdown",
   "id": "18e97a01",
   "metadata": {},
   "source": [
    "bisect"
   ]
  },
  {
   "cell_type": "code",
   "execution_count": 86,
   "id": "47ab61f5",
   "metadata": {},
   "outputs": [],
   "source": [
    "#내장 bisect 모듈은 이진 탐색과 정렬된 리스트에 값을 추가하는 기능을 제공한다"
   ]
  },
  {
   "cell_type": "code",
   "execution_count": 87,
   "id": "de6757c3",
   "metadata": {},
   "outputs": [],
   "source": [
    "#bisect.bisect 메서드는 값이 추가될 때 정렬된 상태를 유지할 수 있는 위치를 반환하며 \n",
    "#bisect.insort는 실제로 정렬된 상태를 유지한 채 값을 추가한다"
   ]
  },
  {
   "cell_type": "code",
   "execution_count": 88,
   "id": "b424795a",
   "metadata": {},
   "outputs": [],
   "source": [
    "import bisect"
   ]
  },
  {
   "cell_type": "code",
   "execution_count": 89,
   "id": "5bf32f14",
   "metadata": {},
   "outputs": [],
   "source": [
    "c = [1,2,2,2,3,4,7]"
   ]
  },
  {
   "cell_type": "code",
   "execution_count": 90,
   "id": "bd5ebf6e",
   "metadata": {},
   "outputs": [
    {
     "data": {
      "text/plain": [
       "4"
      ]
     },
     "execution_count": 90,
     "metadata": {},
     "output_type": "execute_result"
    }
   ],
   "source": [
    "bisect.bisect(c,2)"
   ]
  },
  {
   "cell_type": "code",
   "execution_count": 91,
   "id": "e53405ca",
   "metadata": {},
   "outputs": [
    {
     "data": {
      "text/plain": [
       "6"
      ]
     },
     "execution_count": 91,
     "metadata": {},
     "output_type": "execute_result"
    }
   ],
   "source": [
    "bisect.bisect(c,5)"
   ]
  },
  {
   "cell_type": "code",
   "execution_count": 92,
   "id": "f6d5464b",
   "metadata": {},
   "outputs": [],
   "source": [
    "bisect.insort(c,6)"
   ]
  },
  {
   "cell_type": "code",
   "execution_count": 93,
   "id": "b1b079d8",
   "metadata": {},
   "outputs": [
    {
     "data": {
      "text/plain": [
       "[1, 2, 2, 2, 3, 4, 6, 7]"
      ]
     },
     "execution_count": 93,
     "metadata": {},
     "output_type": "execute_result"
    }
   ],
   "source": [
    "c"
   ]
  },
  {
   "cell_type": "markdown",
   "id": "015a0bdd",
   "metadata": {},
   "source": [
    "슬라이싱"
   ]
  },
  {
   "cell_type": "code",
   "execution_count": 94,
   "id": "ccfd2396",
   "metadata": {},
   "outputs": [],
   "source": [
    "#색인 연산자 안에 start:stop을 지정해 원하는 크기만큼 잘라낼 수 있음"
   ]
  },
  {
   "cell_type": "code",
   "execution_count": 95,
   "id": "2498c5de",
   "metadata": {},
   "outputs": [],
   "source": [
    "seq = [7,2,3,7,5,6,0,1]"
   ]
  },
  {
   "cell_type": "code",
   "execution_count": 97,
   "id": "9f2c83b6",
   "metadata": {},
   "outputs": [
    {
     "data": {
      "text/plain": [
       "[2, 3, 7, 5]"
      ]
     },
     "execution_count": 97,
     "metadata": {},
     "output_type": "execute_result"
    }
   ],
   "source": [
    "seq[1:5]"
   ]
  },
  {
   "cell_type": "code",
   "execution_count": 98,
   "id": "a2b2fc02",
   "metadata": {},
   "outputs": [],
   "source": [
    "#슬라이스에 다른 순차 자료형을 대입하는 것도 가능"
   ]
  },
  {
   "cell_type": "code",
   "execution_count": 99,
   "id": "e91e39a5",
   "metadata": {},
   "outputs": [],
   "source": [
    "seq[3:4] = [6,3]"
   ]
  },
  {
   "cell_type": "code",
   "execution_count": 100,
   "id": "890f7a83",
   "metadata": {},
   "outputs": [
    {
     "data": {
      "text/plain": [
       "[7, 2, 3, 6, 3, 5, 6, 0, 1]"
      ]
     },
     "execution_count": 100,
     "metadata": {},
     "output_type": "execute_result"
    }
   ],
   "source": [
    "seq"
   ]
  },
  {
   "cell_type": "code",
   "execution_count": 101,
   "id": "0c20acce",
   "metadata": {},
   "outputs": [],
   "source": [
    "# 색인의 시작값이나 끝값은 생략가능"
   ]
  },
  {
   "cell_type": "code",
   "execution_count": 102,
   "id": "10aada0d",
   "metadata": {},
   "outputs": [
    {
     "data": {
      "text/plain": [
       "[7, 2, 3, 6, 3]"
      ]
     },
     "execution_count": 102,
     "metadata": {},
     "output_type": "execute_result"
    }
   ],
   "source": [
    "seq[:5]"
   ]
  },
  {
   "cell_type": "code",
   "execution_count": 104,
   "id": "3ab2574c",
   "metadata": {},
   "outputs": [
    {
     "data": {
      "text/plain": [
       "[6, 3, 5, 6, 0, 1]"
      ]
     },
     "execution_count": 104,
     "metadata": {},
     "output_type": "execute_result"
    }
   ],
   "source": [
    "seq[3:]"
   ]
  },
  {
   "cell_type": "code",
   "execution_count": 105,
   "id": "ad5fdd03",
   "metadata": {},
   "outputs": [],
   "source": [
    "# 음수 색인은 순차 자료형의 끝에서부터의 위치를 나타낸다"
   ]
  },
  {
   "cell_type": "code",
   "execution_count": 106,
   "id": "1a73a753",
   "metadata": {},
   "outputs": [
    {
     "data": {
      "text/plain": [
       "[5, 6, 0, 1]"
      ]
     },
     "execution_count": 106,
     "metadata": {},
     "output_type": "execute_result"
    }
   ],
   "source": [
    "seq[-4:]"
   ]
  },
  {
   "cell_type": "code",
   "execution_count": 107,
   "id": "f2b272de",
   "metadata": {},
   "outputs": [
    {
     "data": {
      "text/plain": [
       "[6, 3, 5, 6]"
      ]
     },
     "execution_count": 107,
     "metadata": {},
     "output_type": "execute_result"
    }
   ],
   "source": [
    "seq[-6:-2]"
   ]
  },
  {
   "cell_type": "code",
   "execution_count": 108,
   "id": "dfdfa1df",
   "metadata": {},
   "outputs": [],
   "source": [
    "# 간격을 지정할 수도 있음"
   ]
  },
  {
   "cell_type": "code",
   "execution_count": 110,
   "id": "b596a5dd",
   "metadata": {},
   "outputs": [
    {
     "data": {
      "text/plain": [
       "[7, 3, 3, 6, 1]"
      ]
     },
     "execution_count": 110,
     "metadata": {},
     "output_type": "execute_result"
    }
   ],
   "source": [
    "seq[::2]"
   ]
  },
  {
   "cell_type": "code",
   "execution_count": 111,
   "id": "2ae96436",
   "metadata": {},
   "outputs": [],
   "source": [
    "#-1을 사용하면 역순"
   ]
  },
  {
   "cell_type": "code",
   "execution_count": 112,
   "id": "8326af26",
   "metadata": {},
   "outputs": [
    {
     "data": {
      "text/plain": [
       "[1, 0, 6, 5, 3, 6, 3, 2, 7]"
      ]
     },
     "execution_count": 112,
     "metadata": {},
     "output_type": "execute_result"
    }
   ],
   "source": [
    "seq[::-1]"
   ]
  },
  {
   "cell_type": "markdown",
   "id": "18482641",
   "metadata": {},
   "source": [
    "# 내장 순차 자료형 함수"
   ]
  },
  {
   "cell_type": "markdown",
   "id": "0d7602e1",
   "metadata": {},
   "source": [
    "enumerate 함수는 순차 자료형에서 현재 아이템의 색인을 함께 처리하고자 할 때 흔히 사용"
   ]
  },
  {
   "cell_type": "code",
   "execution_count": 118,
   "id": "a0c807bf",
   "metadata": {
    "scrolled": false
   },
   "outputs": [],
   "source": [
    "collection = [\"a\",\"b\",\"c\",\"d\",\"e\"]"
   ]
  },
  {
   "cell_type": "code",
   "execution_count": 124,
   "id": "ef10f42a",
   "metadata": {},
   "outputs": [
    {
     "name": "stdout",
     "output_type": "stream",
     "text": [
      "0 : a\n",
      "1 : b\n",
      "2 : c\n",
      "3 : d\n",
      "4 : e\n"
     ]
    }
   ],
   "source": [
    "i = 0\n",
    "for value in collection:\n",
    "    i+=1\n",
    "    print(f\"{i-1} : {value}\")"
   ]
  },
  {
   "cell_type": "code",
   "execution_count": 125,
   "id": "4c820d8e",
   "metadata": {},
   "outputs": [
    {
     "name": "stdout",
     "output_type": "stream",
     "text": [
      "0 : a\n",
      "1 : b\n",
      "2 : c\n",
      "3 : d\n",
      "4 : e\n"
     ]
    }
   ],
   "source": [
    "for i, value in enumerate(collection) :\n",
    "    print(f\"{i} : {value}\")"
   ]
  },
  {
   "cell_type": "code",
   "execution_count": 126,
   "id": "bdb478fe",
   "metadata": {},
   "outputs": [],
   "source": [
    "#유용한 패턴은 값과 위치를 dict에 넘겨주는 것"
   ]
  },
  {
   "cell_type": "code",
   "execution_count": 127,
   "id": "0c36c721",
   "metadata": {},
   "outputs": [],
   "source": [
    "some_list = ['foo','bar','baz']"
   ]
  },
  {
   "cell_type": "code",
   "execution_count": 128,
   "id": "0ec9cf7e",
   "metadata": {},
   "outputs": [],
   "source": [
    "mapping = {}"
   ]
  },
  {
   "cell_type": "code",
   "execution_count": 130,
   "id": "b84bd6c8",
   "metadata": {},
   "outputs": [],
   "source": [
    "for i,v in enumerate(some_list):\n",
    "    mapping[v] = i"
   ]
  },
  {
   "cell_type": "code",
   "execution_count": 131,
   "id": "d2e7d00b",
   "metadata": {},
   "outputs": [
    {
     "data": {
      "text/plain": [
       "{'foo': 0, 'bar': 1, 'baz': 2}"
      ]
     },
     "execution_count": 131,
     "metadata": {},
     "output_type": "execute_result"
    }
   ],
   "source": [
    "mapping"
   ]
  },
  {
   "cell_type": "markdown",
   "id": "6f084396",
   "metadata": {},
   "source": [
    "sorted 함수는 정렬된 새로운 순차 자료형을 반환한다"
   ]
  },
  {
   "cell_type": "code",
   "execution_count": 132,
   "id": "1a0175b7",
   "metadata": {},
   "outputs": [
    {
     "data": {
      "text/plain": [
       "[0, 1, 2, 2, 3, 6, 7]"
      ]
     },
     "execution_count": 132,
     "metadata": {},
     "output_type": "execute_result"
    }
   ],
   "source": [
    "sorted([7,1,2,6,0,3,2])"
   ]
  },
  {
   "cell_type": "code",
   "execution_count": 133,
   "id": "c5360e86",
   "metadata": {},
   "outputs": [
    {
     "data": {
      "text/plain": [
       "[' ', 'a', 'c', 'e', 'e', 'h', 'o', 'r', 'r', 's']"
      ]
     },
     "execution_count": 133,
     "metadata": {},
     "output_type": "execute_result"
    }
   ],
   "source": [
    "sorted('horse race')"
   ]
  },
  {
   "cell_type": "code",
   "execution_count": 134,
   "id": "76a50028",
   "metadata": {},
   "outputs": [],
   "source": [
    "#sorted 함수는 리스트의 sort 메서드와 같은 인자를 취한다"
   ]
  },
  {
   "cell_type": "markdown",
   "id": "b610ca1f",
   "metadata": {},
   "source": [
    "zip 함수는 여러 개의 리스트나 튜플 또는 다른 순차 자료형을 서로 짝지어서 튜플의 리스트를 생성"
   ]
  },
  {
   "cell_type": "code",
   "execution_count": 135,
   "id": "05ed5103",
   "metadata": {},
   "outputs": [],
   "source": [
    "seq1 = [\"foo\", \"bar\", \"baz\"]"
   ]
  },
  {
   "cell_type": "code",
   "execution_count": 136,
   "id": "134a9a95",
   "metadata": {},
   "outputs": [],
   "source": [
    "seq2 = [\"one\", \"two\", \"three\"]"
   ]
  },
  {
   "cell_type": "code",
   "execution_count": 137,
   "id": "a3ffb48a",
   "metadata": {},
   "outputs": [],
   "source": [
    "zipped = zip(seq1, seq2)"
   ]
  },
  {
   "cell_type": "code",
   "execution_count": 140,
   "id": "4f22666e",
   "metadata": {},
   "outputs": [
    {
     "data": {
      "text/plain": [
       "[('foo', 'one'), ('bar', 'two'), ('baz', 'three')]"
      ]
     },
     "execution_count": 140,
     "metadata": {},
     "output_type": "execute_result"
    }
   ],
   "source": [
    "list(zipped)"
   ]
  },
  {
   "cell_type": "code",
   "execution_count": 144,
   "id": "bce1a42d",
   "metadata": {},
   "outputs": [],
   "source": [
    "#zip 함수는 여러 개의 순차 자료형을 받을 수 있으며 반환되는 리스트의 크기는 넘겨받는 순차 자료형 중 가장 짧은 크기로 정해진다"
   ]
  },
  {
   "cell_type": "code",
   "execution_count": 145,
   "id": "69b16fb0",
   "metadata": {},
   "outputs": [],
   "source": [
    "seq3 = [False, True]"
   ]
  },
  {
   "cell_type": "code",
   "execution_count": 146,
   "id": "7ff22594",
   "metadata": {},
   "outputs": [
    {
     "data": {
      "text/plain": [
       "[('foo', 'one', False), ('bar', 'two', True)]"
      ]
     },
     "execution_count": 146,
     "metadata": {},
     "output_type": "execute_result"
    }
   ],
   "source": [
    "list(zip(seq1, seq2, seq3))"
   ]
  },
  {
   "cell_type": "code",
   "execution_count": 147,
   "id": "44cf867b",
   "metadata": {},
   "outputs": [],
   "source": [
    "#zip 함수의 아주 흔한 사용 예는 여러 개의 순차 자료형을 동시에 순환하는 경우이고 enumerate와 함께 사용됨"
   ]
  },
  {
   "cell_type": "code",
   "execution_count": 149,
   "id": "342542c1",
   "metadata": {},
   "outputs": [
    {
     "name": "stdout",
     "output_type": "stream",
     "text": [
      "0: foo, one\n",
      "1: bar, two\n",
      "2: baz, three\n"
     ]
    }
   ],
   "source": [
    "for i, (a,b) in enumerate(zip(seq1,seq2)):\n",
    "    print(f\"{i}: {a}, {b}\")"
   ]
  },
  {
   "cell_type": "code",
   "execution_count": 150,
   "id": "f3013831",
   "metadata": {},
   "outputs": [],
   "source": [
    "# zip 함수를 사용해 짝지어진 순차 자료형을 다시 풀어낼 수도 있다. 리스트의 로우를 컬럼으로 변환하는 것도 가능"
   ]
  },
  {
   "cell_type": "code",
   "execution_count": 151,
   "id": "6d5626ab",
   "metadata": {},
   "outputs": [],
   "source": [
    "pitchers = [(\"Nolan\", \"Ryan\"),(\"Roger\", \"Clemens\"),(\"Schilling\", \"Curt\")]"
   ]
  },
  {
   "cell_type": "code",
   "execution_count": 152,
   "id": "1daeb61f",
   "metadata": {},
   "outputs": [],
   "source": [
    "first_names, last_names = zip(*pitchers)"
   ]
  },
  {
   "cell_type": "code",
   "execution_count": 153,
   "id": "fb24b187",
   "metadata": {},
   "outputs": [
    {
     "data": {
      "text/plain": [
       "('Nolan', 'Roger', 'Schilling')"
      ]
     },
     "execution_count": 153,
     "metadata": {},
     "output_type": "execute_result"
    }
   ],
   "source": [
    "first_names"
   ]
  },
  {
   "cell_type": "code",
   "execution_count": 154,
   "id": "bc67d0d4",
   "metadata": {},
   "outputs": [
    {
     "data": {
      "text/plain": [
       "('Ryan', 'Clemens', 'Curt')"
      ]
     },
     "execution_count": 154,
     "metadata": {},
     "output_type": "execute_result"
    }
   ],
   "source": [
    "last_names"
   ]
  },
  {
   "cell_type": "markdown",
   "id": "b99533ff",
   "metadata": {},
   "source": [
    "reversed는 순차 자료형을 역순으로 순회"
   ]
  },
  {
   "cell_type": "code",
   "execution_count": 155,
   "id": "0682b83c",
   "metadata": {},
   "outputs": [
    {
     "data": {
      "text/plain": [
       "[9, 8, 7, 6, 5, 4, 3, 2, 1, 0]"
      ]
     },
     "execution_count": 155,
     "metadata": {},
     "output_type": "execute_result"
    }
   ],
   "source": [
    "list(reversed(range(10)))"
   ]
  },
  {
   "cell_type": "code",
   "execution_count": 156,
   "id": "c8a3acdb",
   "metadata": {},
   "outputs": [],
   "source": [
    "#reversed는 제너레이터이다"
   ]
  },
  {
   "cell_type": "markdown",
   "id": "d2dfd86e",
   "metadata": {},
   "source": [
    "# 3.1.4 사전"
   ]
  },
  {
   "cell_type": "code",
   "execution_count": 157,
   "id": "469ab5ee",
   "metadata": {},
   "outputs": [],
   "source": [
    "# 해시맵 또는 연관배열로 널리 알려짐. 키-값으로 구성 모두 파이썬 객체임"
   ]
  },
  {
   "cell_type": "code",
   "execution_count": 158,
   "id": "70d3cd8a",
   "metadata": {},
   "outputs": [],
   "source": [
    "empty_dict = {}"
   ]
  },
  {
   "cell_type": "code",
   "execution_count": 161,
   "id": "31b0aaa0",
   "metadata": {},
   "outputs": [],
   "source": [
    "d1 = {\"a\" : \"some value\", \"b\" : [1,2,3,4]}"
   ]
  },
  {
   "cell_type": "code",
   "execution_count": 162,
   "id": "cca2eaaf",
   "metadata": {},
   "outputs": [
    {
     "data": {
      "text/plain": [
       "{'a': 'some value', 'b': [1, 2, 3, 4]}"
      ]
     },
     "execution_count": 162,
     "metadata": {},
     "output_type": "execute_result"
    }
   ],
   "source": [
    "d1"
   ]
  },
  {
   "cell_type": "code",
   "execution_count": 163,
   "id": "c6166755",
   "metadata": {},
   "outputs": [],
   "source": [
    "#리스트나 튜플처럼 사전의 값에 접근"
   ]
  },
  {
   "cell_type": "code",
   "execution_count": 164,
   "id": "707ae692",
   "metadata": {},
   "outputs": [],
   "source": [
    "d1[7] = \"an integer\""
   ]
  },
  {
   "cell_type": "code",
   "execution_count": 165,
   "id": "391b8567",
   "metadata": {},
   "outputs": [
    {
     "data": {
      "text/plain": [
       "{'a': 'some value', 'b': [1, 2, 3, 4], 7: 'an integer'}"
      ]
     },
     "execution_count": 165,
     "metadata": {},
     "output_type": "execute_result"
    }
   ],
   "source": [
    "d1"
   ]
  },
  {
   "cell_type": "code",
   "execution_count": 166,
   "id": "19c2e6cf",
   "metadata": {},
   "outputs": [],
   "source": [
    "#확인 검사도 리스트나 튜플과 같은 문법으로"
   ]
  },
  {
   "cell_type": "code",
   "execution_count": 167,
   "id": "0d7f6f6d",
   "metadata": {},
   "outputs": [
    {
     "data": {
      "text/plain": [
       "True"
      ]
     },
     "execution_count": 167,
     "metadata": {},
     "output_type": "execute_result"
    }
   ],
   "source": [
    "\"b\" in d1"
   ]
  },
  {
   "cell_type": "code",
   "execution_count": 168,
   "id": "34f69dac",
   "metadata": {},
   "outputs": [],
   "source": [
    "#del 예약어나 pop 메서드를 사용해 사저늬 값을 삭제"
   ]
  },
  {
   "cell_type": "code",
   "execution_count": 169,
   "id": "68e48fc3",
   "metadata": {},
   "outputs": [],
   "source": [
    "d1[5] = \"some value\""
   ]
  },
  {
   "cell_type": "code",
   "execution_count": 170,
   "id": "81e7218b",
   "metadata": {},
   "outputs": [
    {
     "data": {
      "text/plain": [
       "{'a': 'some value', 'b': [1, 2, 3, 4], 7: 'an integer', 5: 'some value'}"
      ]
     },
     "execution_count": 170,
     "metadata": {},
     "output_type": "execute_result"
    }
   ],
   "source": [
    "d1"
   ]
  },
  {
   "cell_type": "code",
   "execution_count": 171,
   "id": "88c7c47f",
   "metadata": {},
   "outputs": [],
   "source": [
    "d1[\"dummy\"] = \"another value\""
   ]
  },
  {
   "cell_type": "code",
   "execution_count": 172,
   "id": "298dbbd8",
   "metadata": {},
   "outputs": [
    {
     "data": {
      "text/plain": [
       "{'a': 'some value',\n",
       " 'b': [1, 2, 3, 4],\n",
       " 7: 'an integer',\n",
       " 5: 'some value',\n",
       " 'dummy': 'another value'}"
      ]
     },
     "execution_count": 172,
     "metadata": {},
     "output_type": "execute_result"
    }
   ],
   "source": [
    "d1"
   ]
  },
  {
   "cell_type": "code",
   "execution_count": 173,
   "id": "63633f3d",
   "metadata": {},
   "outputs": [],
   "source": [
    "del d1[5]"
   ]
  },
  {
   "cell_type": "code",
   "execution_count": 174,
   "id": "7514aea7",
   "metadata": {},
   "outputs": [
    {
     "data": {
      "text/plain": [
       "{'a': 'some value',\n",
       " 'b': [1, 2, 3, 4],\n",
       " 7: 'an integer',\n",
       " 'dummy': 'another value'}"
      ]
     },
     "execution_count": 174,
     "metadata": {},
     "output_type": "execute_result"
    }
   ],
   "source": [
    "d1"
   ]
  },
  {
   "cell_type": "code",
   "execution_count": 175,
   "id": "3cebde22",
   "metadata": {},
   "outputs": [],
   "source": [
    "ret = d1.pop(\"dummy\")"
   ]
  },
  {
   "cell_type": "code",
   "execution_count": 176,
   "id": "1763a667",
   "metadata": {},
   "outputs": [
    {
     "data": {
      "text/plain": [
       "'another value'"
      ]
     },
     "execution_count": 176,
     "metadata": {},
     "output_type": "execute_result"
    }
   ],
   "source": [
    "ret"
   ]
  },
  {
   "cell_type": "code",
   "execution_count": 177,
   "id": "8b55d559",
   "metadata": {},
   "outputs": [
    {
     "data": {
      "text/plain": [
       "{'a': 'some value', 'b': [1, 2, 3, 4], 7: 'an integer'}"
      ]
     },
     "execution_count": 177,
     "metadata": {},
     "output_type": "execute_result"
    }
   ],
   "source": [
    "d1"
   ]
  },
  {
   "cell_type": "code",
   "execution_count": 178,
   "id": "1c6fb4fd",
   "metadata": {},
   "outputs": [
    {
     "data": {
      "text/plain": [
       "['a', 'b', 7]"
      ]
     },
     "execution_count": 178,
     "metadata": {},
     "output_type": "execute_result"
    }
   ],
   "source": [
    "list(d1.keys())"
   ]
  },
  {
   "cell_type": "code",
   "execution_count": 179,
   "id": "d99f0c31",
   "metadata": {},
   "outputs": [
    {
     "data": {
      "text/plain": [
       "['some value', [1, 2, 3, 4], 'an integer']"
      ]
     },
     "execution_count": 179,
     "metadata": {},
     "output_type": "execute_result"
    }
   ],
   "source": [
    "list(d1.values())"
   ]
  },
  {
   "cell_type": "code",
   "execution_count": 182,
   "id": "6185b280",
   "metadata": {},
   "outputs": [],
   "source": [
    "#update 메서드를 사용해서 하나의 사전을 다른 사전과 합칠 수 있다"
   ]
  },
  {
   "cell_type": "code",
   "execution_count": 180,
   "id": "bb58a6e0",
   "metadata": {},
   "outputs": [],
   "source": [
    "d1.update({\"b\":\"foo\", \"c\":12})"
   ]
  },
  {
   "cell_type": "code",
   "execution_count": 181,
   "id": "c1d68294",
   "metadata": {},
   "outputs": [
    {
     "data": {
      "text/plain": [
       "{'a': 'some value', 'b': 'foo', 7: 'an integer', 'c': 12}"
      ]
     },
     "execution_count": 181,
     "metadata": {},
     "output_type": "execute_result"
    }
   ],
   "source": [
    "d1"
   ]
  },
  {
   "cell_type": "code",
   "execution_count": 183,
   "id": "002a2941",
   "metadata": {},
   "outputs": [],
   "source": [
    "#순차 자료형에서 사전 생성하기"
   ]
  },
  {
   "cell_type": "code",
   "execution_count": 184,
   "id": "0950f9a8",
   "metadata": {},
   "outputs": [],
   "source": [
    "mapping = {}"
   ]
  },
  {
   "cell_type": "code",
   "execution_count": 185,
   "id": "8be389dd",
   "metadata": {},
   "outputs": [
    {
     "ename": "NameError",
     "evalue": "name 'key_list' is not defined",
     "output_type": "error",
     "traceback": [
      "\u001b[1;31m---------------------------------------------------------------------------\u001b[0m",
      "\u001b[1;31mNameError\u001b[0m                                 Traceback (most recent call last)",
      "\u001b[1;32m~\\AppData\\Local\\Temp/ipykernel_14484/3175186449.py\u001b[0m in \u001b[0;36m<module>\u001b[1;34m\u001b[0m\n\u001b[1;32m----> 1\u001b[1;33m \u001b[1;32mfor\u001b[0m \u001b[0mkey\u001b[0m\u001b[1;33m,\u001b[0m \u001b[0mvalue\u001b[0m \u001b[1;32min\u001b[0m \u001b[0mzip\u001b[0m\u001b[1;33m(\u001b[0m\u001b[0mkey_list\u001b[0m\u001b[1;33m,\u001b[0m \u001b[0mvalue_list\u001b[0m\u001b[1;33m)\u001b[0m\u001b[1;33m:\u001b[0m\u001b[1;33m\u001b[0m\u001b[1;33m\u001b[0m\u001b[0m\n\u001b[0m\u001b[0;32m      2\u001b[0m     \u001b[0mmapping\u001b[0m\u001b[1;33m[\u001b[0m\u001b[0mkey\u001b[0m\u001b[1;33m]\u001b[0m \u001b[1;33m=\u001b[0m \u001b[0mvalue\u001b[0m\u001b[1;33m\u001b[0m\u001b[1;33m\u001b[0m\u001b[0m\n",
      "\u001b[1;31mNameError\u001b[0m: name 'key_list' is not defined"
     ]
    }
   ],
   "source": [
    "for key, value in zip(key_list, value_list):\n",
    "    mapping[key] = value"
   ]
  },
  {
   "cell_type": "code",
   "execution_count": null,
   "id": "0e514d82",
   "metadata": {},
   "outputs": [],
   "source": []
  }
 ],
 "metadata": {
  "kernelspec": {
   "display_name": "Python 3 (ipykernel)",
   "language": "python",
   "name": "python3"
  },
  "language_info": {
   "codemirror_mode": {
    "name": "ipython",
    "version": 3
   },
   "file_extension": ".py",
   "mimetype": "text/x-python",
   "name": "python",
   "nbconvert_exporter": "python",
   "pygments_lexer": "ipython3",
   "version": "3.8.10"
  }
 },
 "nbformat": 4,
 "nbformat_minor": 5
}
