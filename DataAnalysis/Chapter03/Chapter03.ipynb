{
 "cells": [
  {
   "cell_type": "markdown",
   "id": "6e69fae3",
   "metadata": {},
   "source": [
    "# 3.1.1 튜플"
   ]
  },
  {
   "cell_type": "code",
   "execution_count": 1,
   "id": "201ad5d1",
   "metadata": {},
   "outputs": [],
   "source": [
    "#튜플 생성하는 가장 쉬운 방법은 쉼표로 구분된 값을 대입하는 것"
   ]
  },
  {
   "cell_type": "code",
   "execution_count": 2,
   "id": "035754b5",
   "metadata": {},
   "outputs": [],
   "source": [
    "tup = 4,5,6"
   ]
  },
  {
   "cell_type": "code",
   "execution_count": 3,
   "id": "85b533a2",
   "metadata": {},
   "outputs": [
    {
     "data": {
      "text/plain": [
       "(4, 5, 6)"
      ]
     },
     "execution_count": 3,
     "metadata": {},
     "output_type": "execute_result"
    }
   ],
   "source": [
    "tup"
   ]
  },
  {
   "cell_type": "code",
   "execution_count": 4,
   "id": "2a4a71f8",
   "metadata": {},
   "outputs": [],
   "source": [
    "# 괄호를 사용해 중첩된 튜플 정의 가능"
   ]
  },
  {
   "cell_type": "code",
   "execution_count": 5,
   "id": "96603cfd",
   "metadata": {},
   "outputs": [],
   "source": [
    "nested_tup = (4,5,6),(7,8)"
   ]
  },
  {
   "cell_type": "code",
   "execution_count": 6,
   "id": "11e358cf",
   "metadata": {},
   "outputs": [
    {
     "data": {
      "text/plain": [
       "((4, 5, 6), (7, 8))"
      ]
     },
     "execution_count": 6,
     "metadata": {},
     "output_type": "execute_result"
    }
   ],
   "source": [
    "nested_tup"
   ]
  },
  {
   "cell_type": "code",
   "execution_count": 7,
   "id": "47cdd9dc",
   "metadata": {},
   "outputs": [],
   "source": [
    "# 모든 순차 자료형, 이터레이터는 튜플로 변환 가능"
   ]
  },
  {
   "cell_type": "code",
   "execution_count": 8,
   "id": "1034b9bc",
   "metadata": {},
   "outputs": [
    {
     "data": {
      "text/plain": [
       "(4, 0, 2)"
      ]
     },
     "execution_count": 8,
     "metadata": {},
     "output_type": "execute_result"
    }
   ],
   "source": [
    "tuple([4,0,2])"
   ]
  },
  {
   "cell_type": "code",
   "execution_count": 9,
   "id": "b7271a86",
   "metadata": {},
   "outputs": [],
   "source": [
    "tup = tuple(\"string\")"
   ]
  },
  {
   "cell_type": "code",
   "execution_count": 10,
   "id": "7d1e2d4d",
   "metadata": {},
   "outputs": [
    {
     "data": {
      "text/plain": [
       "('s', 't', 'r', 'i', 'n', 'g')"
      ]
     },
     "execution_count": 10,
     "metadata": {},
     "output_type": "execute_result"
    }
   ],
   "source": [
    "tup"
   ]
  },
  {
   "cell_type": "code",
   "execution_count": 11,
   "id": "82200b84",
   "metadata": {},
   "outputs": [],
   "source": [
    "#튜플에 저장된 객체 자체는 변경 가능, 한 번 생성되면 각 슬롯에 저장된 객체는 변경 불가능"
   ]
  },
  {
   "cell_type": "code",
   "execution_count": 12,
   "id": "b51c24d1",
   "metadata": {},
   "outputs": [],
   "source": [
    "tup = tuple([\"foo\", [1,2], True])"
   ]
  },
  {
   "cell_type": "code",
   "execution_count": 14,
   "id": "0f69fe1d",
   "metadata": {},
   "outputs": [
    {
     "ename": "TypeError",
     "evalue": "'tuple' object does not support item assignment",
     "output_type": "error",
     "traceback": [
      "\u001b[1;31m---------------------------------------------------------------------------\u001b[0m",
      "\u001b[1;31mTypeError\u001b[0m                                 Traceback (most recent call last)",
      "\u001b[1;32m~\\AppData\\Local\\Temp/ipykernel_14484/3440851503.py\u001b[0m in \u001b[0;36m<module>\u001b[1;34m\u001b[0m\n\u001b[1;32m----> 1\u001b[1;33m \u001b[0mtup\u001b[0m\u001b[1;33m[\u001b[0m\u001b[1;36m2\u001b[0m\u001b[1;33m]\u001b[0m \u001b[1;33m=\u001b[0m \u001b[1;32mFalse\u001b[0m\u001b[1;33m\u001b[0m\u001b[1;33m\u001b[0m\u001b[0m\n\u001b[0m",
      "\u001b[1;31mTypeError\u001b[0m: 'tuple' object does not support item assignment"
     ]
    }
   ],
   "source": [
    "tup[2] = False"
   ]
  },
  {
   "cell_type": "code",
   "execution_count": 15,
   "id": "ef449998",
   "metadata": {},
   "outputs": [],
   "source": [
    "#튜플 내에 저장된 객체는 그 위치에서 바로 변경 가능"
   ]
  },
  {
   "cell_type": "code",
   "execution_count": 16,
   "id": "102ba084",
   "metadata": {},
   "outputs": [
    {
     "data": {
      "text/plain": [
       "('foo', [1, 2], True)"
      ]
     },
     "execution_count": 16,
     "metadata": {},
     "output_type": "execute_result"
    }
   ],
   "source": [
    "tup"
   ]
  },
  {
   "cell_type": "code",
   "execution_count": 17,
   "id": "f87789a1",
   "metadata": {},
   "outputs": [],
   "source": [
    "tup[1].append(3)"
   ]
  },
  {
   "cell_type": "code",
   "execution_count": 18,
   "id": "53229d73",
   "metadata": {},
   "outputs": [
    {
     "data": {
      "text/plain": [
       "('foo', [1, 2, 3], True)"
      ]
     },
     "execution_count": 18,
     "metadata": {},
     "output_type": "execute_result"
    }
   ],
   "source": [
    "tup"
   ]
  },
  {
   "cell_type": "code",
   "execution_count": 19,
   "id": "052884f4",
   "metadata": {},
   "outputs": [],
   "source": [
    "# +연산자를 이용해서 튜플을 이어붙일 수 있음"
   ]
  },
  {
   "cell_type": "code",
   "execution_count": 20,
   "id": "3a139921",
   "metadata": {},
   "outputs": [
    {
     "data": {
      "text/plain": [
       "(4, None, 'foo', 6, 0, 'bar')"
      ]
     },
     "execution_count": 20,
     "metadata": {},
     "output_type": "execute_result"
    }
   ],
   "source": [
    "(4,None,'foo')+(6,0)+(\"bar\",)"
   ]
  },
  {
   "cell_type": "code",
   "execution_count": 21,
   "id": "c66dc22c",
   "metadata": {},
   "outputs": [],
   "source": [
    "#튜플에 정수를 곱하면 리스트와 마찬가지로 튜플의 복사본이 반복되어 늘어남"
   ]
  },
  {
   "cell_type": "code",
   "execution_count": 22,
   "id": "0c0212c2",
   "metadata": {},
   "outputs": [
    {
     "data": {
      "text/plain": [
       "('foo', 'bar', 'foo', 'bar', 'foo', 'bar', 'foo', 'bar')"
      ]
     },
     "execution_count": 22,
     "metadata": {},
     "output_type": "execute_result"
    }
   ],
   "source": [
    "(\"foo\", \"bar\")*4"
   ]
  },
  {
   "cell_type": "code",
   "execution_count": 23,
   "id": "ce7c8584",
   "metadata": {},
   "outputs": [],
   "source": [
    "#튜플 안에 객체는 복사되지 않고 그 객체에 대한 참조만 복사됨"
   ]
  },
  {
   "cell_type": "markdown",
   "id": "c39e8092",
   "metadata": {},
   "source": [
    "튜플에서 값 분라하기"
   ]
  },
  {
   "cell_type": "code",
   "execution_count": 24,
   "id": "0357267d",
   "metadata": {},
   "outputs": [],
   "source": [
    "# 튜플과 같은 표현의 변수를 대입하면 값을 분리"
   ]
  },
  {
   "cell_type": "code",
   "execution_count": 25,
   "id": "f23917a7",
   "metadata": {},
   "outputs": [],
   "source": [
    "tup = (4,5,6)"
   ]
  },
  {
   "cell_type": "code",
   "execution_count": 26,
   "id": "5ced85ad",
   "metadata": {},
   "outputs": [],
   "source": [
    "a,b,c = tup"
   ]
  },
  {
   "cell_type": "code",
   "execution_count": 27,
   "id": "29bb6ef0",
   "metadata": {},
   "outputs": [
    {
     "data": {
      "text/plain": [
       "5"
      ]
     },
     "execution_count": 27,
     "metadata": {},
     "output_type": "execute_result"
    }
   ],
   "source": [
    "b"
   ]
  },
  {
   "cell_type": "code",
   "execution_count": 28,
   "id": "ef976825",
   "metadata": {},
   "outputs": [],
   "source": [
    "tup = 4,5,(6,7)"
   ]
  },
  {
   "cell_type": "code",
   "execution_count": 29,
   "id": "64821a71",
   "metadata": {},
   "outputs": [],
   "source": [
    "a,b,(c,d) = tup"
   ]
  },
  {
   "cell_type": "code",
   "execution_count": 30,
   "id": "8e835cb6",
   "metadata": {},
   "outputs": [
    {
     "data": {
      "text/plain": [
       "7"
      ]
     },
     "execution_count": 30,
     "metadata": {},
     "output_type": "execute_result"
    }
   ],
   "source": [
    "d"
   ]
  },
  {
   "cell_type": "code",
   "execution_count": 31,
   "id": "a8b67a2c",
   "metadata": {},
   "outputs": [],
   "source": [
    "# 파이썬에서는 다음과 같이 하여 두 변수의 값을 쉽게 바꿈"
   ]
  },
  {
   "cell_type": "code",
   "execution_count": 32,
   "id": "dff186bc",
   "metadata": {},
   "outputs": [],
   "source": [
    "a,b = 1,2"
   ]
  },
  {
   "cell_type": "code",
   "execution_count": 33,
   "id": "0c06768c",
   "metadata": {},
   "outputs": [
    {
     "data": {
      "text/plain": [
       "(1, 2)"
      ]
     },
     "execution_count": 33,
     "metadata": {},
     "output_type": "execute_result"
    }
   ],
   "source": [
    "a,b"
   ]
  },
  {
   "cell_type": "code",
   "execution_count": 34,
   "id": "dc479571",
   "metadata": {},
   "outputs": [],
   "source": [
    "b,a = a,b"
   ]
  },
  {
   "cell_type": "code",
   "execution_count": 35,
   "id": "96482e08",
   "metadata": {},
   "outputs": [
    {
     "data": {
      "text/plain": [
       "(2, 1)"
      ]
     },
     "execution_count": 35,
     "metadata": {},
     "output_type": "execute_result"
    }
   ],
   "source": [
    "a,b"
   ]
  },
  {
   "cell_type": "code",
   "execution_count": 36,
   "id": "2c853dba",
   "metadata": {},
   "outputs": [],
   "source": [
    "# 튜플이나 리스트를 순회할 때도 흔히 이 기능을 활용"
   ]
  },
  {
   "cell_type": "code",
   "execution_count": 37,
   "id": "143d0c44",
   "metadata": {},
   "outputs": [],
   "source": [
    "seq = [(1,2,3),(4,5,6),(7,8,9)]"
   ]
  },
  {
   "cell_type": "code",
   "execution_count": 38,
   "id": "e0d9adc6",
   "metadata": {},
   "outputs": [
    {
     "name": "stdout",
     "output_type": "stream",
     "text": [
      "a=1, b=2, c=3\n",
      "a=4, b=5, c=6\n",
      "a=7, b=8, c=9\n"
     ]
    }
   ],
   "source": [
    "for a,b,c in seq:\n",
    "    print(\"a={0}, b={1}, c={2}\".format(a,b,c))"
   ]
  },
  {
   "cell_type": "code",
   "execution_count": 40,
   "id": "8f6d9001",
   "metadata": {},
   "outputs": [],
   "source": [
    "# 함수의 시그니처에서 길이를 알 수 없는 긴 인자를 담기 위해 쓰는 *rest"
   ]
  },
  {
   "cell_type": "code",
   "execution_count": 41,
   "id": "539bb82e",
   "metadata": {},
   "outputs": [],
   "source": [
    "values = 1,2,3,4,5"
   ]
  },
  {
   "cell_type": "code",
   "execution_count": 42,
   "id": "e349a0ec",
   "metadata": {},
   "outputs": [],
   "source": [
    "a,b,*rest = values"
   ]
  },
  {
   "cell_type": "code",
   "execution_count": 43,
   "id": "2af98b56",
   "metadata": {},
   "outputs": [
    {
     "data": {
      "text/plain": [
       "(1, 2)"
      ]
     },
     "execution_count": 43,
     "metadata": {},
     "output_type": "execute_result"
    }
   ],
   "source": [
    "a,b"
   ]
  },
  {
   "cell_type": "code",
   "execution_count": 44,
   "id": "f7fd4af0",
   "metadata": {},
   "outputs": [
    {
     "data": {
      "text/plain": [
       "[3, 4, 5]"
      ]
     },
     "execution_count": 44,
     "metadata": {},
     "output_type": "execute_result"
    }
   ],
   "source": [
    "rest"
   ]
  },
  {
   "cell_type": "code",
   "execution_count": 45,
   "id": "7bf073b7",
   "metadata": {},
   "outputs": [],
   "source": [
    "# rest라는 이름에는 별 의미 없음, _를 대신 사용하기도 함"
   ]
  },
  {
   "cell_type": "code",
   "execution_count": 46,
   "id": "144fe509",
   "metadata": {},
   "outputs": [],
   "source": [
    "a,b,*_ = values"
   ]
  },
  {
   "cell_type": "code",
   "execution_count": 47,
   "id": "0bcb2efd",
   "metadata": {},
   "outputs": [
    {
     "data": {
      "text/plain": [
       "[3, 4, 5]"
      ]
     },
     "execution_count": 47,
     "metadata": {},
     "output_type": "execute_result"
    }
   ],
   "source": [
    "_"
   ]
  },
  {
   "cell_type": "code",
   "execution_count": 48,
   "id": "e35905dc",
   "metadata": {},
   "outputs": [],
   "source": [
    "# 튜플 메서드는 많지 않다, count 메서드는 주어진 값과 같은 값이 몇 개 있는지 반환한다"
   ]
  },
  {
   "cell_type": "code",
   "execution_count": 49,
   "id": "2ede4b8c",
   "metadata": {},
   "outputs": [],
   "source": [
    "a = (1,2,2,2,3,4,2)"
   ]
  },
  {
   "cell_type": "code",
   "execution_count": 50,
   "id": "691fda78",
   "metadata": {},
   "outputs": [
    {
     "data": {
      "text/plain": [
       "4"
      ]
     },
     "execution_count": 50,
     "metadata": {},
     "output_type": "execute_result"
    }
   ],
   "source": [
    "a.count(2)"
   ]
  },
  {
   "cell_type": "markdown",
   "id": "f4eabe46",
   "metadata": {},
   "source": [
    "# 리스트"
   ]
  },
  {
   "cell_type": "code",
   "execution_count": 51,
   "id": "6f251aaa",
   "metadata": {},
   "outputs": [],
   "source": [
    "#insert는 append에 비해 연산비용이 많이 든다. 순차 자료형의 시작과 끝 지점에 원소를 추가하고 싶다면 collections,deque를 사용하자"
   ]
  },
  {
   "cell_type": "code",
   "execution_count": 52,
   "id": "ff51d6f7",
   "metadata": {},
   "outputs": [],
   "source": [
    "b_list = [\"foo\",\"peekaboo\", \"baz\"]"
   ]
  },
  {
   "cell_type": "code",
   "execution_count": 53,
   "id": "7a2562a4",
   "metadata": {},
   "outputs": [],
   "source": [
    "b_list.append(\"dwarf\")"
   ]
  },
  {
   "cell_type": "code",
   "execution_count": 54,
   "id": "9d4e8882",
   "metadata": {},
   "outputs": [
    {
     "data": {
      "text/plain": [
       "['foo', 'peekaboo', 'baz', 'dwarf']"
      ]
     },
     "execution_count": 54,
     "metadata": {},
     "output_type": "execute_result"
    }
   ],
   "source": [
    "b_list"
   ]
  },
  {
   "cell_type": "code",
   "execution_count": 55,
   "id": "db06b11b",
   "metadata": {},
   "outputs": [],
   "source": [
    "b_list.insert(1,\"red\")"
   ]
  },
  {
   "cell_type": "code",
   "execution_count": 56,
   "id": "565d4c40",
   "metadata": {},
   "outputs": [
    {
     "data": {
      "text/plain": [
       "['foo', 'red', 'peekaboo', 'baz', 'dwarf']"
      ]
     },
     "execution_count": 56,
     "metadata": {},
     "output_type": "execute_result"
    }
   ],
   "source": [
    "b_list"
   ]
  },
  {
   "cell_type": "code",
   "execution_count": 57,
   "id": "0b0e3fb0",
   "metadata": {},
   "outputs": [],
   "source": [
    "b_list[1] = \"blue\""
   ]
  },
  {
   "cell_type": "code",
   "execution_count": 58,
   "id": "5aee7669",
   "metadata": {},
   "outputs": [
    {
     "data": {
      "text/plain": [
       "['foo', 'blue', 'peekaboo', 'baz', 'dwarf']"
      ]
     },
     "execution_count": 58,
     "metadata": {},
     "output_type": "execute_result"
    }
   ],
   "source": [
    "b_list"
   ]
  },
  {
   "cell_type": "code",
   "execution_count": 59,
   "id": "363b372e",
   "metadata": {},
   "outputs": [],
   "source": [
    "#반대로는 pop과 remove가 있다 remove는 리스트 제일 앞의 값부터 삭제한다"
   ]
  },
  {
   "cell_type": "code",
   "execution_count": 64,
   "id": "c7f69942",
   "metadata": {},
   "outputs": [
    {
     "data": {
      "text/plain": [
       "'dwarf'"
      ]
     },
     "execution_count": 64,
     "metadata": {},
     "output_type": "execute_result"
    }
   ],
   "source": [
    "b_list.pop(2)"
   ]
  },
  {
   "cell_type": "code",
   "execution_count": 61,
   "id": "7b6d02fd",
   "metadata": {},
   "outputs": [
    {
     "data": {
      "text/plain": [
       "['foo', 'blue', 'baz', 'dwarf']"
      ]
     },
     "execution_count": 61,
     "metadata": {},
     "output_type": "execute_result"
    }
   ],
   "source": [
    "b_list"
   ]
  },
  {
   "cell_type": "code",
   "execution_count": 65,
   "id": "a438577d",
   "metadata": {},
   "outputs": [],
   "source": [
    "b_list.append(\"foo\")"
   ]
  },
  {
   "cell_type": "code",
   "execution_count": 66,
   "id": "34733b0a",
   "metadata": {},
   "outputs": [
    {
     "data": {
      "text/plain": [
       "['foo', 'blue', 'baz', 'dwarf', 'foo']"
      ]
     },
     "execution_count": 66,
     "metadata": {},
     "output_type": "execute_result"
    }
   ],
   "source": [
    "b_list"
   ]
  },
  {
   "cell_type": "code",
   "execution_count": 67,
   "id": "5ff35f17",
   "metadata": {},
   "outputs": [],
   "source": [
    "b_list.remove(\"foo\")"
   ]
  },
  {
   "cell_type": "code",
   "execution_count": 68,
   "id": "01fe9027",
   "metadata": {},
   "outputs": [
    {
     "data": {
      "text/plain": [
       "['blue', 'baz', 'dwarf', 'foo']"
      ]
     },
     "execution_count": 68,
     "metadata": {},
     "output_type": "execute_result"
    }
   ],
   "source": [
    "b_list"
   ]
  },
  {
   "cell_type": "code",
   "execution_count": 69,
   "id": "c1b0d16c",
   "metadata": {},
   "outputs": [],
   "source": [
    "# in과 not을 사용해 리스트에 어떤 값이 있는지 검사 가능\""
   ]
  },
  {
   "cell_type": "code",
   "execution_count": 71,
   "id": "b448ac7d",
   "metadata": {},
   "outputs": [
    {
     "data": {
      "text/plain": [
       "True"
      ]
     },
     "execution_count": 71,
     "metadata": {},
     "output_type": "execute_result"
    }
   ],
   "source": [
    "\"dwarf\" in b_list"
   ]
  },
  {
   "cell_type": "code",
   "execution_count": 72,
   "id": "b26cdeb0",
   "metadata": {},
   "outputs": [
    {
     "data": {
      "text/plain": [
       "False"
      ]
     },
     "execution_count": 72,
     "metadata": {},
     "output_type": "execute_result"
    }
   ],
   "source": [
    "\"dwarf\" not in b_list"
   ]
  },
  {
   "cell_type": "code",
   "execution_count": 73,
   "id": "e6bd1208",
   "metadata": {},
   "outputs": [],
   "source": [
    "# 튜플과 마찬가지로 + 연산자로 합칠 수 있음 허나 큰 리스트 일수록 extend 메서드를 사용하는 것이 연산비용에서 이득이다"
   ]
  },
  {
   "cell_type": "code",
   "execution_count": 74,
   "id": "6b63785a",
   "metadata": {},
   "outputs": [],
   "source": [
    "x = [4,None,\"foo\"]+[7,8,(2,3)]"
   ]
  },
  {
   "cell_type": "code",
   "execution_count": 75,
   "id": "2c728f1f",
   "metadata": {},
   "outputs": [
    {
     "data": {
      "text/plain": [
       "[4, None, 'foo', 7, 8, (2, 3)]"
      ]
     },
     "execution_count": 75,
     "metadata": {},
     "output_type": "execute_result"
    }
   ],
   "source": [
    "x"
   ]
  },
  {
   "cell_type": "code",
   "execution_count": 76,
   "id": "fe0e6ca3",
   "metadata": {},
   "outputs": [],
   "source": [
    "x = [4,None,\"foo\"]"
   ]
  },
  {
   "cell_type": "code",
   "execution_count": 77,
   "id": "d9269d1f",
   "metadata": {},
   "outputs": [
    {
     "data": {
      "text/plain": [
       "[4, None, 'foo']"
      ]
     },
     "execution_count": 77,
     "metadata": {},
     "output_type": "execute_result"
    }
   ],
   "source": [
    "x"
   ]
  },
  {
   "cell_type": "code",
   "execution_count": 78,
   "id": "81b3c67a",
   "metadata": {},
   "outputs": [],
   "source": [
    "x.extend([7,8,(2,3)])"
   ]
  },
  {
   "cell_type": "code",
   "execution_count": 79,
   "id": "341db9c9",
   "metadata": {},
   "outputs": [
    {
     "data": {
      "text/plain": [
       "[4, None, 'foo', 7, 8, (2, 3)]"
      ]
     },
     "execution_count": 79,
     "metadata": {},
     "output_type": "execute_result"
    }
   ],
   "source": [
    "x"
   ]
  },
  {
   "cell_type": "code",
   "execution_count": 81,
   "id": "2a673803",
   "metadata": {},
   "outputs": [],
   "source": [
    "# sort 함수로 리스트 정렬 가능, 여라가지 옵션을 제공하고 그 중 하나가 문자열 길이 순 정렬"
   ]
  },
  {
   "cell_type": "code",
   "execution_count": 82,
   "id": "0cf1d278",
   "metadata": {},
   "outputs": [],
   "source": [
    "b = [\"saw\", \"small\", \"He\", \"foxes\", \"six\"]"
   ]
  },
  {
   "cell_type": "code",
   "execution_count": 83,
   "id": "e71d3585",
   "metadata": {},
   "outputs": [],
   "source": [
    "b.sort(key=len)"
   ]
  },
  {
   "cell_type": "code",
   "execution_count": 84,
   "id": "20390bd2",
   "metadata": {},
   "outputs": [
    {
     "data": {
      "text/plain": [
       "['He', 'saw', 'six', 'small', 'foxes']"
      ]
     },
     "execution_count": 84,
     "metadata": {},
     "output_type": "execute_result"
    }
   ],
   "source": [
    "b"
   ]
  },
  {
   "cell_type": "code",
   "execution_count": 85,
   "id": "bc142b7d",
   "metadata": {},
   "outputs": [],
   "source": [
    "#sorted 함수는 정렬된 복사본을 생성한다"
   ]
  },
  {
   "cell_type": "markdown",
   "id": "e9a92a3b",
   "metadata": {},
   "source": [
    "bisect"
   ]
  },
  {
   "cell_type": "code",
   "execution_count": 86,
   "id": "5cfb5890",
   "metadata": {},
   "outputs": [],
   "source": [
    "#내장 bisect 모듈은 이진 탐색과 정렬된 리스트에 값을 추가하는 기능을 제공한다"
   ]
  },
  {
   "cell_type": "code",
   "execution_count": 87,
   "id": "c1f7210b",
   "metadata": {},
   "outputs": [],
   "source": [
    "#bisect.bisect 메서드는 값이 추가될 때 정렬된 상태를 유지할 수 있는 위치를 반환하며 \n",
    "#bisect.insort는 실제로 정렬된 상태를 유지한 채 값을 추가한다"
   ]
  },
  {
   "cell_type": "code",
   "execution_count": 88,
   "id": "fb356106",
   "metadata": {},
   "outputs": [],
   "source": [
    "import bisect"
   ]
  },
  {
   "cell_type": "code",
   "execution_count": 89,
   "id": "b74a69bb",
   "metadata": {},
   "outputs": [],
   "source": [
    "c = [1,2,2,2,3,4,7]"
   ]
  },
  {
   "cell_type": "code",
   "execution_count": 90,
   "id": "6597d50e",
   "metadata": {},
   "outputs": [
    {
     "data": {
      "text/plain": [
       "4"
      ]
     },
     "execution_count": 90,
     "metadata": {},
     "output_type": "execute_result"
    }
   ],
   "source": [
    "bisect.bisect(c,2)"
   ]
  },
  {
   "cell_type": "code",
   "execution_count": 91,
   "id": "f06de370",
   "metadata": {},
   "outputs": [
    {
     "data": {
      "text/plain": [
       "6"
      ]
     },
     "execution_count": 91,
     "metadata": {},
     "output_type": "execute_result"
    }
   ],
   "source": [
    "bisect.bisect(c,5)"
   ]
  },
  {
   "cell_type": "code",
   "execution_count": 92,
   "id": "97c2aed6",
   "metadata": {},
   "outputs": [],
   "source": [
    "bisect.insort(c,6)"
   ]
  },
  {
   "cell_type": "code",
   "execution_count": 93,
   "id": "5dd4e9e6",
   "metadata": {},
   "outputs": [
    {
     "data": {
      "text/plain": [
       "[1, 2, 2, 2, 3, 4, 6, 7]"
      ]
     },
     "execution_count": 93,
     "metadata": {},
     "output_type": "execute_result"
    }
   ],
   "source": [
    "c"
   ]
  },
  {
   "cell_type": "markdown",
   "id": "8c375191",
   "metadata": {},
   "source": [
    "슬라이싱"
   ]
  },
  {
   "cell_type": "code",
   "execution_count": 94,
   "id": "ffd846d1",
   "metadata": {},
   "outputs": [],
   "source": [
    "#색인 연산자 안에 start:stop을 지정해 원하는 크기만큼 잘라낼 수 있음"
   ]
  },
  {
   "cell_type": "code",
   "execution_count": 95,
   "id": "dae06a1f",
   "metadata": {},
   "outputs": [],
   "source": [
    "seq = [7,2,3,7,5,6,0,1]"
   ]
  },
  {
   "cell_type": "code",
   "execution_count": 97,
   "id": "0521e4b6",
   "metadata": {},
   "outputs": [
    {
     "data": {
      "text/plain": [
       "[2, 3, 7, 5]"
      ]
     },
     "execution_count": 97,
     "metadata": {},
     "output_type": "execute_result"
    }
   ],
   "source": [
    "seq[1:5]"
   ]
  },
  {
   "cell_type": "code",
   "execution_count": 98,
   "id": "855a660d",
   "metadata": {},
   "outputs": [],
   "source": [
    "#슬라이스에 다른 순차 자료형을 대입하는 것도 가능"
   ]
  },
  {
   "cell_type": "code",
   "execution_count": 99,
   "id": "244abbe1",
   "metadata": {},
   "outputs": [],
   "source": [
    "seq[3:4] = [6,3]"
   ]
  },
  {
   "cell_type": "code",
   "execution_count": 100,
   "id": "4f2586d5",
   "metadata": {},
   "outputs": [
    {
     "data": {
      "text/plain": [
       "[7, 2, 3, 6, 3, 5, 6, 0, 1]"
      ]
     },
     "execution_count": 100,
     "metadata": {},
     "output_type": "execute_result"
    }
   ],
   "source": [
    "seq"
   ]
  },
  {
   "cell_type": "code",
   "execution_count": 101,
   "id": "97de01e6",
   "metadata": {},
   "outputs": [],
   "source": [
    "# 색인의 시작값이나 끝값은 생략가능"
   ]
  },
  {
   "cell_type": "code",
   "execution_count": 102,
   "id": "5aa267a4",
   "metadata": {},
   "outputs": [
    {
     "data": {
      "text/plain": [
       "[7, 2, 3, 6, 3]"
      ]
     },
     "execution_count": 102,
     "metadata": {},
     "output_type": "execute_result"
    }
   ],
   "source": [
    "seq[:5]"
   ]
  },
  {
   "cell_type": "code",
   "execution_count": 104,
   "id": "169e7bfe",
   "metadata": {},
   "outputs": [
    {
     "data": {
      "text/plain": [
       "[6, 3, 5, 6, 0, 1]"
      ]
     },
     "execution_count": 104,
     "metadata": {},
     "output_type": "execute_result"
    }
   ],
   "source": [
    "seq[3:]"
   ]
  },
  {
   "cell_type": "code",
   "execution_count": 105,
   "id": "a1e9f0eb",
   "metadata": {},
   "outputs": [],
   "source": [
    "# 음수 색인은 순차 자료형의 끝에서부터의 위치를 나타낸다"
   ]
  },
  {
   "cell_type": "code",
   "execution_count": 106,
   "id": "40d2840d",
   "metadata": {},
   "outputs": [
    {
     "data": {
      "text/plain": [
       "[5, 6, 0, 1]"
      ]
     },
     "execution_count": 106,
     "metadata": {},
     "output_type": "execute_result"
    }
   ],
   "source": [
    "seq[-4:]"
   ]
  },
  {
   "cell_type": "code",
   "execution_count": 107,
   "id": "1e225064",
   "metadata": {},
   "outputs": [
    {
     "data": {
      "text/plain": [
       "[6, 3, 5, 6]"
      ]
     },
     "execution_count": 107,
     "metadata": {},
     "output_type": "execute_result"
    }
   ],
   "source": [
    "seq[-6:-2]"
   ]
  },
  {
   "cell_type": "code",
   "execution_count": 108,
   "id": "8564ea6c",
   "metadata": {},
   "outputs": [],
   "source": [
    "# 간격을 지정할 수도 있음"
   ]
  },
  {
   "cell_type": "code",
   "execution_count": 110,
   "id": "9b4f1804",
   "metadata": {},
   "outputs": [
    {
     "data": {
      "text/plain": [
       "[7, 3, 3, 6, 1]"
      ]
     },
     "execution_count": 110,
     "metadata": {},
     "output_type": "execute_result"
    }
   ],
   "source": [
    "seq[::2]"
   ]
  },
  {
   "cell_type": "code",
   "execution_count": 111,
   "id": "440a23a0",
   "metadata": {},
   "outputs": [],
   "source": [
    "#-1을 사용하면 역순"
   ]
  },
  {
   "cell_type": "code",
   "execution_count": 112,
   "id": "9284d29d",
   "metadata": {},
   "outputs": [
    {
     "data": {
      "text/plain": [
       "[1, 0, 6, 5, 3, 6, 3, 2, 7]"
      ]
     },
     "execution_count": 112,
     "metadata": {},
     "output_type": "execute_result"
    }
   ],
   "source": [
    "seq[::-1]"
   ]
  },
  {
   "cell_type": "markdown",
   "id": "e21a448c",
   "metadata": {},
   "source": [
    "# 내장 순차 자료형 함수"
   ]
  },
  {
   "cell_type": "markdown",
   "id": "80fb869a",
   "metadata": {},
   "source": [
    "enumerate 함수는 순차 자료형에서 현재 아이템의 색인을 함께 처리하고자 할 때 흔히 사용"
   ]
  },
  {
   "cell_type": "code",
   "execution_count": 118,
   "id": "6e5fdb32",
   "metadata": {
    "scrolled": false
   },
   "outputs": [],
   "source": [
    "collection = [\"a\",\"b\",\"c\",\"d\",\"e\"]"
   ]
  },
  {
   "cell_type": "code",
   "execution_count": 124,
   "id": "e55a3162",
   "metadata": {},
   "outputs": [
    {
     "name": "stdout",
     "output_type": "stream",
     "text": [
      "0 : a\n",
      "1 : b\n",
      "2 : c\n",
      "3 : d\n",
      "4 : e\n"
     ]
    }
   ],
   "source": [
    "i = 0\n",
    "for value in collection:\n",
    "    i+=1\n",
    "    print(f\"{i-1} : {value}\")"
   ]
  },
  {
   "cell_type": "code",
   "execution_count": 125,
   "id": "59ebb535",
   "metadata": {},
   "outputs": [
    {
     "name": "stdout",
     "output_type": "stream",
     "text": [
      "0 : a\n",
      "1 : b\n",
      "2 : c\n",
      "3 : d\n",
      "4 : e\n"
     ]
    }
   ],
   "source": [
    "for i, value in enumerate(collection) :\n",
    "    print(f\"{i} : {value}\")"
   ]
  },
  {
   "cell_type": "code",
   "execution_count": 126,
   "id": "af3c2e0b",
   "metadata": {},
   "outputs": [],
   "source": [
    "#유용한 패턴은 값과 위치를 dict에 넘겨주는 것"
   ]
  },
  {
   "cell_type": "code",
   "execution_count": 127,
   "id": "fd3f5338",
   "metadata": {},
   "outputs": [],
   "source": [
    "some_list = ['foo','bar','baz']"
   ]
  },
  {
   "cell_type": "code",
   "execution_count": 128,
   "id": "e87317cb",
   "metadata": {},
   "outputs": [],
   "source": [
    "mapping = {}"
   ]
  },
  {
   "cell_type": "code",
   "execution_count": 130,
   "id": "12bf8e00",
   "metadata": {},
   "outputs": [],
   "source": [
    "for i,v in enumerate(some_list):\n",
    "    mapping[v] = i"
   ]
  },
  {
   "cell_type": "code",
   "execution_count": 131,
   "id": "69348fed",
   "metadata": {},
   "outputs": [
    {
     "data": {
      "text/plain": [
       "{'foo': 0, 'bar': 1, 'baz': 2}"
      ]
     },
     "execution_count": 131,
     "metadata": {},
     "output_type": "execute_result"
    }
   ],
   "source": [
    "mapping"
   ]
  },
  {
   "cell_type": "markdown",
   "id": "b67f8ab1",
   "metadata": {},
   "source": [
    "sorted 함수는 정렬된 새로운 순차 자료형을 반환한다"
   ]
  },
  {
   "cell_type": "code",
   "execution_count": 132,
   "id": "c3129fe8",
   "metadata": {},
   "outputs": [
    {
     "data": {
      "text/plain": [
       "[0, 1, 2, 2, 3, 6, 7]"
      ]
     },
     "execution_count": 132,
     "metadata": {},
     "output_type": "execute_result"
    }
   ],
   "source": [
    "sorted([7,1,2,6,0,3,2])"
   ]
  },
  {
   "cell_type": "code",
   "execution_count": 133,
   "id": "19bd5080",
   "metadata": {},
   "outputs": [
    {
     "data": {
      "text/plain": [
       "[' ', 'a', 'c', 'e', 'e', 'h', 'o', 'r', 'r', 's']"
      ]
     },
     "execution_count": 133,
     "metadata": {},
     "output_type": "execute_result"
    }
   ],
   "source": [
    "sorted('horse race')"
   ]
  },
  {
   "cell_type": "code",
   "execution_count": 134,
   "id": "511a2a14",
   "metadata": {},
   "outputs": [],
   "source": [
    "#sorted 함수는 리스트의 sort 메서드와 같은 인자를 취한다"
   ]
  },
  {
   "cell_type": "markdown",
   "id": "9bc108ed",
   "metadata": {},
   "source": [
    "zip 함수는 여러 개의 리스트나 튜플 또는 다른 순차 자료형을 서로 짝지어서 튜플의 리스트를 생성"
   ]
  },
  {
   "cell_type": "code",
   "execution_count": 135,
   "id": "13063a5b",
   "metadata": {},
   "outputs": [],
   "source": [
    "seq1 = [\"foo\", \"bar\", \"baz\"]"
   ]
  },
  {
   "cell_type": "code",
   "execution_count": 136,
   "id": "c51e7557",
   "metadata": {},
   "outputs": [],
   "source": [
    "seq2 = [\"one\", \"two\", \"three\"]"
   ]
  },
  {
   "cell_type": "code",
   "execution_count": 137,
   "id": "4f6c1fa9",
   "metadata": {},
   "outputs": [],
   "source": [
    "zipped = zip(seq1, seq2)"
   ]
  },
  {
   "cell_type": "code",
   "execution_count": 140,
   "id": "df380cc0",
   "metadata": {},
   "outputs": [
    {
     "data": {
      "text/plain": [
       "[('foo', 'one'), ('bar', 'two'), ('baz', 'three')]"
      ]
     },
     "execution_count": 140,
     "metadata": {},
     "output_type": "execute_result"
    }
   ],
   "source": [
    "list(zipped)"
   ]
  },
  {
   "cell_type": "code",
   "execution_count": 144,
   "id": "c821ce23",
   "metadata": {},
   "outputs": [],
   "source": [
    "#zip 함수는 여러 개의 순차 자료형을 받을 수 있으며 반환되는 리스트의 크기는 넘겨받는 순차 자료형 중 가장 짧은 크기로 정해진다"
   ]
  },
  {
   "cell_type": "code",
   "execution_count": 145,
   "id": "cb118315",
   "metadata": {},
   "outputs": [],
   "source": [
    "seq3 = [False, True]"
   ]
  },
  {
   "cell_type": "code",
   "execution_count": 146,
   "id": "0f7d91e5",
   "metadata": {},
   "outputs": [
    {
     "data": {
      "text/plain": [
       "[('foo', 'one', False), ('bar', 'two', True)]"
      ]
     },
     "execution_count": 146,
     "metadata": {},
     "output_type": "execute_result"
    }
   ],
   "source": [
    "list(zip(seq1, seq2, seq3))"
   ]
  },
  {
   "cell_type": "code",
   "execution_count": 147,
   "id": "0cd0acfa",
   "metadata": {},
   "outputs": [],
   "source": [
    "#zip 함수의 아주 흔한 사용 예는 여러 개의 순차 자료형을 동시에 순환하는 경우이고 enumerate와 함께 사용됨"
   ]
  },
  {
   "cell_type": "code",
   "execution_count": 149,
   "id": "4e26067f",
   "metadata": {},
   "outputs": [
    {
     "name": "stdout",
     "output_type": "stream",
     "text": [
      "0: foo, one\n",
      "1: bar, two\n",
      "2: baz, three\n"
     ]
    }
   ],
   "source": [
    "for i, (a,b) in enumerate(zip(seq1,seq2)):\n",
    "    print(f\"{i}: {a}, {b}\")"
   ]
  },
  {
   "cell_type": "code",
   "execution_count": 150,
   "id": "a08f9ba6",
   "metadata": {},
   "outputs": [],
   "source": [
    "# zip 함수를 사용해 짝지어진 순차 자료형을 다시 풀어낼 수도 있다. 리스트의 로우를 컬럼으로 변환하는 것도 가능"
   ]
  },
  {
   "cell_type": "code",
   "execution_count": 151,
   "id": "04037624",
   "metadata": {},
   "outputs": [],
   "source": [
    "pitchers = [(\"Nolan\", \"Ryan\"),(\"Roger\", \"Clemens\"),(\"Schilling\", \"Curt\")]"
   ]
  },
  {
   "cell_type": "code",
   "execution_count": 152,
   "id": "7265b68d",
   "metadata": {},
   "outputs": [],
   "source": [
    "first_names, last_names = zip(*pitchers)"
   ]
  },
  {
   "cell_type": "code",
   "execution_count": 153,
   "id": "31159df3",
   "metadata": {},
   "outputs": [
    {
     "data": {
      "text/plain": [
       "('Nolan', 'Roger', 'Schilling')"
      ]
     },
     "execution_count": 153,
     "metadata": {},
     "output_type": "execute_result"
    }
   ],
   "source": [
    "first_names"
   ]
  },
  {
   "cell_type": "code",
   "execution_count": 154,
   "id": "04bd417f",
   "metadata": {},
   "outputs": [
    {
     "data": {
      "text/plain": [
       "('Ryan', 'Clemens', 'Curt')"
      ]
     },
     "execution_count": 154,
     "metadata": {},
     "output_type": "execute_result"
    }
   ],
   "source": [
    "last_names"
   ]
  },
  {
   "cell_type": "markdown",
   "id": "e6ce364b",
   "metadata": {},
   "source": [
    "reversed는 순차 자료형을 역순으로 순회"
   ]
  },
  {
   "cell_type": "code",
   "execution_count": 155,
   "id": "226bb470",
   "metadata": {},
   "outputs": [
    {
     "data": {
      "text/plain": [
       "[9, 8, 7, 6, 5, 4, 3, 2, 1, 0]"
      ]
     },
     "execution_count": 155,
     "metadata": {},
     "output_type": "execute_result"
    }
   ],
   "source": [
    "list(reversed(range(10)))"
   ]
  },
  {
   "cell_type": "code",
   "execution_count": 156,
   "id": "86957182",
   "metadata": {},
   "outputs": [],
   "source": [
    "#reversed는 제너레이터이다"
   ]
  },
  {
   "cell_type": "markdown",
   "id": "a38aff7f",
   "metadata": {},
   "source": [
    "# 3.1.4 사전"
   ]
  },
  {
   "cell_type": "code",
   "execution_count": 157,
   "id": "7a58daaa",
   "metadata": {},
   "outputs": [],
   "source": [
    "# 해시맵 또는 연관배열로 널리 알려짐. 키-값으로 구성 모두 파이썬 객체임"
   ]
  },
  {
   "cell_type": "code",
   "execution_count": 158,
   "id": "26ef635b",
   "metadata": {},
   "outputs": [],
   "source": [
    "empty_dict = {}"
   ]
  },
  {
   "cell_type": "code",
   "execution_count": 161,
   "id": "de0e9e71",
   "metadata": {},
   "outputs": [],
   "source": [
    "d1 = {\"a\" : \"some value\", \"b\" : [1,2,3,4]}"
   ]
  },
  {
   "cell_type": "code",
   "execution_count": 162,
   "id": "b0528334",
   "metadata": {},
   "outputs": [
    {
     "data": {
      "text/plain": [
       "{'a': 'some value', 'b': [1, 2, 3, 4]}"
      ]
     },
     "execution_count": 162,
     "metadata": {},
     "output_type": "execute_result"
    }
   ],
   "source": [
    "d1"
   ]
  },
  {
   "cell_type": "code",
   "execution_count": 163,
   "id": "22e7a79c",
   "metadata": {},
   "outputs": [],
   "source": [
    "#리스트나 튜플처럼 사전의 값에 접근"
   ]
  },
  {
   "cell_type": "code",
   "execution_count": 164,
   "id": "e5b0e6e7",
   "metadata": {},
   "outputs": [],
   "source": [
    "d1[7] = \"an integer\""
   ]
  },
  {
   "cell_type": "code",
   "execution_count": 165,
   "id": "9715d260",
   "metadata": {},
   "outputs": [
    {
     "data": {
      "text/plain": [
       "{'a': 'some value', 'b': [1, 2, 3, 4], 7: 'an integer'}"
      ]
     },
     "execution_count": 165,
     "metadata": {},
     "output_type": "execute_result"
    }
   ],
   "source": [
    "d1"
   ]
  },
  {
   "cell_type": "code",
   "execution_count": 166,
   "id": "573ab389",
   "metadata": {},
   "outputs": [],
   "source": [
    "#확인 검사도 리스트나 튜플과 같은 문법으로"
   ]
  },
  {
   "cell_type": "code",
   "execution_count": 167,
   "id": "eba1e2df",
   "metadata": {},
   "outputs": [
    {
     "data": {
      "text/plain": [
       "True"
      ]
     },
     "execution_count": 167,
     "metadata": {},
     "output_type": "execute_result"
    }
   ],
   "source": [
    "\"b\" in d1"
   ]
  },
  {
   "cell_type": "code",
   "execution_count": 168,
   "id": "de50d6b8",
   "metadata": {},
   "outputs": [],
   "source": [
    "#del 예약어나 pop 메서드를 사용해 사저늬 값을 삭제"
   ]
  },
  {
   "cell_type": "code",
   "execution_count": 169,
   "id": "2de001b0",
   "metadata": {},
   "outputs": [],
   "source": [
    "d1[5] = \"some value\""
   ]
  },
  {
   "cell_type": "code",
   "execution_count": 170,
   "id": "06a019ef",
   "metadata": {},
   "outputs": [
    {
     "data": {
      "text/plain": [
       "{'a': 'some value', 'b': [1, 2, 3, 4], 7: 'an integer', 5: 'some value'}"
      ]
     },
     "execution_count": 170,
     "metadata": {},
     "output_type": "execute_result"
    }
   ],
   "source": [
    "d1"
   ]
  },
  {
   "cell_type": "code",
   "execution_count": 171,
   "id": "94015010",
   "metadata": {},
   "outputs": [],
   "source": [
    "d1[\"dummy\"] = \"another value\""
   ]
  },
  {
   "cell_type": "code",
   "execution_count": 172,
   "id": "15908fef",
   "metadata": {},
   "outputs": [
    {
     "data": {
      "text/plain": [
       "{'a': 'some value',\n",
       " 'b': [1, 2, 3, 4],\n",
       " 7: 'an integer',\n",
       " 5: 'some value',\n",
       " 'dummy': 'another value'}"
      ]
     },
     "execution_count": 172,
     "metadata": {},
     "output_type": "execute_result"
    }
   ],
   "source": [
    "d1"
   ]
  },
  {
   "cell_type": "code",
   "execution_count": 173,
   "id": "c8692824",
   "metadata": {},
   "outputs": [],
   "source": [
    "del d1[5]"
   ]
  },
  {
   "cell_type": "code",
   "execution_count": 174,
   "id": "91134c67",
   "metadata": {},
   "outputs": [
    {
     "data": {
      "text/plain": [
       "{'a': 'some value',\n",
       " 'b': [1, 2, 3, 4],\n",
       " 7: 'an integer',\n",
       " 'dummy': 'another value'}"
      ]
     },
     "execution_count": 174,
     "metadata": {},
     "output_type": "execute_result"
    }
   ],
   "source": [
    "d1"
   ]
  },
  {
   "cell_type": "code",
   "execution_count": 175,
   "id": "436c7ffb",
   "metadata": {},
   "outputs": [],
   "source": [
    "ret = d1.pop(\"dummy\")"
   ]
  },
  {
   "cell_type": "code",
   "execution_count": 176,
   "id": "1e321f30",
   "metadata": {},
   "outputs": [
    {
     "data": {
      "text/plain": [
       "'another value'"
      ]
     },
     "execution_count": 176,
     "metadata": {},
     "output_type": "execute_result"
    }
   ],
   "source": [
    "ret"
   ]
  },
  {
   "cell_type": "code",
   "execution_count": 177,
   "id": "d20012f6",
   "metadata": {},
   "outputs": [
    {
     "data": {
      "text/plain": [
       "{'a': 'some value', 'b': [1, 2, 3, 4], 7: 'an integer'}"
      ]
     },
     "execution_count": 177,
     "metadata": {},
     "output_type": "execute_result"
    }
   ],
   "source": [
    "d1"
   ]
  },
  {
   "cell_type": "code",
   "execution_count": 178,
   "id": "d7f2691a",
   "metadata": {},
   "outputs": [
    {
     "data": {
      "text/plain": [
       "['a', 'b', 7]"
      ]
     },
     "execution_count": 178,
     "metadata": {},
     "output_type": "execute_result"
    }
   ],
   "source": [
    "list(d1.keys())"
   ]
  },
  {
   "cell_type": "code",
   "execution_count": 179,
   "id": "b26e2994",
   "metadata": {},
   "outputs": [
    {
     "data": {
      "text/plain": [
       "['some value', [1, 2, 3, 4], 'an integer']"
      ]
     },
     "execution_count": 179,
     "metadata": {},
     "output_type": "execute_result"
    }
   ],
   "source": [
    "list(d1.values())"
   ]
  },
  {
   "cell_type": "code",
   "execution_count": 182,
   "id": "687d1af7",
   "metadata": {},
   "outputs": [],
   "source": [
    "#update 메서드를 사용해서 하나의 사전을 다른 사전과 합칠 수 있다"
   ]
  },
  {
   "cell_type": "code",
   "execution_count": 180,
   "id": "07a61339",
   "metadata": {},
   "outputs": [],
   "source": [
    "d1.update({\"b\":\"foo\", \"c\":12})"
   ]
  },
  {
   "cell_type": "code",
   "execution_count": 181,
   "id": "95e1c14e",
   "metadata": {},
   "outputs": [
    {
     "data": {
      "text/plain": [
       "{'a': 'some value', 'b': 'foo', 7: 'an integer', 'c': 12}"
      ]
     },
     "execution_count": 181,
     "metadata": {},
     "output_type": "execute_result"
    }
   ],
   "source": [
    "d1"
   ]
  },
  {
   "cell_type": "code",
   "execution_count": 183,
   "id": "572c3a2f",
   "metadata": {},
   "outputs": [],
   "source": [
    "#순차 자료형에서 사전 생성하기"
   ]
  },
  {
   "cell_type": "code",
   "execution_count": 184,
   "id": "78af3ee8",
   "metadata": {},
   "outputs": [],
   "source": [
    "mapping = {}"
   ]
  },
  {
   "cell_type": "code",
   "execution_count": 190,
   "id": "686f022e",
   "metadata": {
    "scrolled": true
   },
   "outputs": [],
   "source": [
    "key_list = [1,2,3,4,5,6,7]\n",
    "value_list = [\"one\",\"two\",\"three\",\"four\",\"five\",\"six\",\"seven\"]\n",
    "\n",
    "for key, value in zip(key_list, value_list):\n",
    "    mapping[key] = value"
   ]
  },
  {
   "cell_type": "code",
   "execution_count": 191,
   "id": "eebd0ce2",
   "metadata": {},
   "outputs": [
    {
     "data": {
      "text/plain": [
       "{1: 'one', 2: 'two', 3: 'three', 4: 'four', 5: 'five', 6: 'six', 7: 'seven'}"
      ]
     },
     "execution_count": 191,
     "metadata": {},
     "output_type": "execute_result"
    }
   ],
   "source": [
    "mapping"
   ]
  },
  {
   "cell_type": "code",
   "execution_count": 192,
   "id": "bb8ec1ec",
   "metadata": {},
   "outputs": [],
   "source": [
    "# dict 함수가 2개짜리 튜플의 리스트를 인자로 받아서 사전을 생성하는 일이 그다지 놀라운 일이 아니다"
   ]
  },
  {
   "cell_type": "code",
   "execution_count": 193,
   "id": "b2fff786",
   "metadata": {},
   "outputs": [],
   "source": [
    "mapping = dict(zip(range(5), reversed(range(5))))"
   ]
  },
  {
   "cell_type": "code",
   "execution_count": 194,
   "id": "0a01be2c",
   "metadata": {},
   "outputs": [
    {
     "data": {
      "text/plain": [
       "{0: 4, 1: 3, 2: 2, 3: 1, 4: 0}"
      ]
     },
     "execution_count": 194,
     "metadata": {},
     "output_type": "execute_result"
    }
   ],
   "source": [
    "mapping"
   ]
  },
  {
   "cell_type": "code",
   "execution_count": 195,
   "id": "f3d1a4d3",
   "metadata": {},
   "outputs": [],
   "source": [
    "#기본값"
   ]
  },
  {
   "cell_type": "code",
   "execution_count": 196,
   "id": "393cae29",
   "metadata": {},
   "outputs": [
    {
     "ename": "NameError",
     "evalue": "name 'some_dict' is not defined",
     "output_type": "error",
     "traceback": [
      "\u001b[1;31m---------------------------------------------------------------------------\u001b[0m",
      "\u001b[1;31mNameError\u001b[0m                                 Traceback (most recent call last)",
      "\u001b[1;32m~\\AppData\\Local\\Temp/ipykernel_14484/2347891422.py\u001b[0m in \u001b[0;36m<module>\u001b[1;34m\u001b[0m\n\u001b[1;32m----> 1\u001b[1;33m \u001b[1;32mif\u001b[0m \u001b[0mkey\u001b[0m \u001b[1;32min\u001b[0m \u001b[0msome_dict\u001b[0m\u001b[1;33m:\u001b[0m\u001b[1;33m\u001b[0m\u001b[1;33m\u001b[0m\u001b[0m\n\u001b[0m\u001b[0;32m      2\u001b[0m     \u001b[0mvalue\u001b[0m \u001b[1;33m=\u001b[0m \u001b[0msome_dict\u001b[0m\u001b[1;33m[\u001b[0m\u001b[0mkey\u001b[0m\u001b[1;33m]\u001b[0m\u001b[1;33m\u001b[0m\u001b[1;33m\u001b[0m\u001b[0m\n\u001b[0;32m      3\u001b[0m \u001b[1;32melse\u001b[0m\u001b[1;33m:\u001b[0m\u001b[1;33m\u001b[0m\u001b[1;33m\u001b[0m\u001b[0m\n\u001b[0;32m      4\u001b[0m     \u001b[0mvalue\u001b[0m \u001b[1;33m=\u001b[0m \u001b[0mdefault_value\u001b[0m\u001b[1;33m\u001b[0m\u001b[1;33m\u001b[0m\u001b[0m\n",
      "\u001b[1;31mNameError\u001b[0m: name 'some_dict' is not defined"
     ]
    }
   ],
   "source": [
    "if key in some_dict:\n",
    "    value = some_dict[key]\n",
    "else:\n",
    "    value = default_value"
   ]
  },
  {
   "cell_type": "code",
   "execution_count": null,
   "id": "fec60808",
   "metadata": {},
   "outputs": [],
   "source": []
  }
 ],
 "metadata": {
  "kernelspec": {
   "display_name": "Python 3 (ipykernel)",
   "language": "python",
   "name": "python3"
  },
  "language_info": {
   "codemirror_mode": {
    "name": "ipython",
    "version": 3
   },
   "file_extension": ".py",
   "mimetype": "text/x-python",
   "name": "python",
   "nbconvert_exporter": "python",
   "pygments_lexer": "ipython3",
   "version": "3.8.10"
  }
 },
 "nbformat": 4,
 "nbformat_minor": 5
}
